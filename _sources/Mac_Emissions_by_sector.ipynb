{
 "cells": [
  {
   "cell_type": "markdown",
   "metadata": {},
   "source": [
    "# Annual emissions broken down by sector\n",
    "\n",
    "Here we can present the visualisations and discuss them. \n",
    "\n",
    "This page can be easily printed to a pdf using the buttons on the top right hand side of this web page.\n",
    "\n",
    "This page is just a markdown file that has been slightly adapted to look nicer in Jupyter Books - e.g. removing the cell inputs/ outputs to only show the interactive graph below."
   ]
  },
  {
   "cell_type": "code",
   "execution_count": 1,
   "metadata": {
    "tags": [
     "remove-input"
    ]
   },
   "outputs": [],
   "source": [
    "import pandas as pd\n",
    "from itertools import takewhile\n",
    "import plotly.graph_objects as go\n",
    "import base64\n",
    "import numpy as np\n",
    "from dare_viz import path"
   ]
  },
  {
   "cell_type": "code",
   "execution_count": 2,
   "metadata": {
    "tags": [
     "remove-input"
    ]
   },
   "outputs": [],
   "source": [
    "xlsCH4 = pd.ExcelFile('data/GBR_2022_2020_10052022_142545.xlsx')\n",
    "dfCH4 = pd.read_excel(xlsCH4, 'Table10s3', header=4)\n",
    "dfCH4.set_index(\"GREENHOUSE GAS SOURCE AND SINK CATEGORIES\", inplace=True)\n",
    "dfCH4.dropna(inplace=True)\n",
    "\n",
    "dfCH4.drop(\n",
    "    labels = [\"D.  Non-energy products from fuels and solvent use\", \"G.  Other product manufacture and use \", \"C.  Rice cultivation\", \"D.  Agricultural soils\", \"E.  Prescribed burning of savannas\", \"F.  Other land\", \"E.  Other \",\"6.  Other (as specified in summary 1.A)\", \"International bunkers\", \"Navigation\", \"Multilateral operations\",\n",
    " \"Aviation\"],\n",
    "    axis=0,\n",
    "    inplace = True\n",
    ")\n",
    "dfCH4.drop(\n",
    "    labels = [\"Base year(1)\", \"Change from base to latest reported year\"],\n",
    "    axis=1,\n",
    "    inplace = True\n",
    ")\n",
    "#dfCH4"
   ]
  },
  {
   "cell_type": "code",
   "execution_count": 4,
   "metadata": {
    "tags": [
     "remove-input"
    ]
   },
   "outputs": [],
   "source": [
    "dfCH4_CO2_equ = dfCH4 / 1000 * 28\n",
    "#dfCH4_CO2_equ"
   ]
  },
  {
   "cell_type": "code",
   "execution_count": 5,
   "metadata": {
    "tags": [
     "remove-input"
    ]
   },
   "outputs": [],
   "source": [
    "xlsN2O = pd.ExcelFile('data/GBR_2022_2020_10052022_142545.xlsx')\n",
    "dfN2O = pd.read_excel(xlsN2O, 'Table10s4', header=4)\n",
    "dfN2O.set_index(\"GREENHOUSE GAS SOURCE AND SINK CATEGORIES\", inplace=True)\n",
    "dfN2O.dropna(inplace=True)\n",
    "\n",
    "dfN2O.drop(\n",
    "    labels = [\"D.  Non-energy products from fuels and solvent use\",  \"E.  Prescribed burning of savannas\", \"F.  Other land\", \"E.  Other \",\"6.  Other (as specified in summary 1.A)\", \"International bunkers\", \"Navigation\", \"Multilateral operations\",\n",
    " \"Aviation\", \"Indirect N2O\", \"H.  Other \"],\n",
    "    axis=0,\n",
    "    inplace = True\n",
    ")\n",
    "dfN2O.drop(\n",
    "    labels = [\"Base year(1)\", \"Change from base to latest reported year\"],\n",
    "    axis=1,\n",
    "    inplace = True\n",
    ")\n",
    "#dfN2O"
   ]
  },
  {
   "cell_type": "code",
   "execution_count": 6,
   "metadata": {
    "tags": [
     "remove-input"
    ]
   },
   "outputs": [],
   "source": [
    "dfN2O_CO2_equ = dfN2O / 1000 * 265\n",
    "#dfN2O_CO2_equ"
   ]
  },
  {
   "cell_type": "code",
   "execution_count": 7,
   "metadata": {
    "tags": [
     "remove-input"
    ]
   },
   "outputs": [],
   "source": [
    "invent_fgas = pd.read_csv('data/UK_NIR_2022_co2e_all_gases_yearly.csv')\n",
    "invent_fgas.set_index(\"year\", inplace=True)\n",
    "#invent_fgas"
   ]
  },
  {
   "cell_type": "code",
   "execution_count": 8,
   "metadata": {
    "tags": [
     "remove-input"
    ]
   },
   "outputs": [],
   "source": [
    "invent_fgas_1 = invent_fgas / 1000\n",
    "invent_fgas_1[\"Total\"] = invent_fgas_1.sum(axis=1)\n",
    "invent_fgas_1.index = pd.to_datetime(invent_fgas_1.index, format='%Y')\n",
    "#invent_fgas_1"
   ]
  },
  {
   "cell_type": "code",
   "execution_count": 10,
   "metadata": {
    "tags": [
     "remove-input"
    ]
   },
   "outputs": [],
   "source": [
    "hfc23 = pd.read_csv('data/UK_NIR_2022_HFC-23.csv')\n",
    "hfc23.set_index(\"GREENHOUSE GAS SOURCE AND SINK CATEGORIES\", inplace=True)\n",
    "hfc23.fillna(0, inplace=True)\n",
    "#hfc23\n",
    "\n",
    "hfc32 = pd.read_csv('data/UK_NIR_2022_HFC-32.csv')\n",
    "hfc32.set_index(\"GREENHOUSE GAS SOURCE AND SINK CATEGORIES\", inplace=True)\n",
    "hfc32.fillna(0, inplace=True)\n",
    "#hfc32\n",
    "\n",
    "hfc4310mee = pd.read_csv('data/UK_NIR_2022_HFC-43-10mee.csv')\n",
    "hfc4310mee.set_index(\"GREENHOUSE GAS SOURCE AND SINK CATEGORIES\", inplace=True)\n",
    "hfc4310mee.replace(\"NA,NO\", 0, inplace=True)\n",
    "#hfc4310mee.fillna(0, inplace=True)\n",
    "#hfc4310mee\n",
    "\n",
    "hfc125 = pd.read_csv('data/UK_NIR_2022_HFC-125.csv')\n",
    "hfc125.set_index(\"GREENHOUSE GAS SOURCE AND SINK CATEGORIES\", inplace=True)\n",
    "#hfc125.replace(\"NA,NO\", 0, inplace=True)\n",
    "hfc125.fillna(0, inplace=True)\n",
    "#hfc125\n",
    "\n",
    "hfc134a = pd.read_csv('data/UK_NIR_2022_HFC-134a.csv')\n",
    "hfc134a.set_index(\"GREENHOUSE GAS SOURCE AND SINK CATEGORIES\", inplace=True)\n",
    "#hfc134a.replace(\"NA,NO\", 0, inplace=True)\n",
    "hfc134a.fillna(0, inplace=True)\n",
    "#hfc134a\n",
    "\n",
    "hfc143a = pd.read_csv('data/UK_NIR_2022_HFC-143a.csv')\n",
    "hfc143a.set_index(\"GREENHOUSE GAS SOURCE AND SINK CATEGORIES\", inplace=True)\n",
    "#hfc143a.replace(\"NA,NO\", 0, inplace=True)\n",
    "hfc143a.fillna(0, inplace=True)\n",
    "#hfc143a\n",
    "\n",
    "hfc152a = pd.read_csv('data/UK_NIR_2022_HFC-152a.csv')\n",
    "hfc152a.set_index(\"GREENHOUSE GAS SOURCE AND SINK CATEGORIES\", inplace=True)\n",
    "#hfc152a.replace(\"NA,NO\", 0, inplace=True)\n",
    "hfc152a.fillna(0, inplace=True)\n",
    "#hfc152a\n",
    "\n",
    "hfc227ea = pd.read_csv('data/UK_NIR_2022_HFC-227ea.csv')\n",
    "hfc227ea.set_index(\"GREENHOUSE GAS SOURCE AND SINK CATEGORIES\", inplace=True)\n",
    "#hfc227ea.replace(\"NA,NO\", 0, inplace=True)\n",
    "hfc227ea.fillna(0, inplace=True)\n",
    "#hfc227ea\n",
    "\n",
    "hfc245fa = pd.read_csv('data/UK_NIR_2022_HFC-245fa.csv')\n",
    "hfc245fa.set_index(\"GREENHOUSE GAS SOURCE AND SINK CATEGORIES\", inplace=True)\n",
    "#hfc245fa.replace(\"NA,NO\", 0, inplace=True)\n",
    "hfc245fa.fillna(0, inplace=True)\n",
    "#hfc245fa\n",
    "\n",
    "hfc365mfc = pd.read_csv('data/UK_NIR_2022_HFC-365mfc.csv')\n",
    "hfc365mfc.set_index(\"GREENHOUSE GAS SOURCE AND SINK CATEGORIES\", inplace=True)\n",
    "#hfc365mfc.replace(\"NA,NO\", 0, inplace=True)\n",
    "hfc365mfc.fillna(0, inplace=True)\n",
    "#hfc365mfc"
   ]
  },
  {
   "cell_type": "code",
   "execution_count": 11,
   "metadata": {
    "tags": [
     "remove-cell"
    ]
   },
   "outputs": [
    {
     "data": {
      "text/plain": [
       "1990         0.0\n",
       "1991         0.0\n",
       "1992         0.0\n",
       "1993         0.0\n",
       "1994         0.0\n",
       "1995         0.0\n",
       "1996         0.0\n",
       "1997         0.0\n",
       "1998         0.0\n",
       "1999         0.0\n",
       "2000         0.0\n",
       "2001         0.0\n",
       "2002         0.0\n",
       "2003         0.0\n",
       "2004         0.0\n",
       "2005         0.0\n",
       "2006         0.0\n",
       "2007         0.0\n",
       "2008         0.0\n",
       "2009         0.0\n",
       "2010         0.0\n",
       "2011         0.0\n",
       "2012         0.0\n",
       "2013         0.0\n",
       "2014         0.0\n",
       "2015         0.0\n",
       "2016         0.0\n",
       "2017    0.012827\n",
       "2018     0.08987\n",
       "2019    0.013735\n",
       "2020    0.013735\n",
       "Name: F.  Product uses as substitutes for ODS(2), dtype: object"
      ]
     },
     "execution_count": 11,
     "metadata": {},
     "output_type": "execute_result"
    }
   ],
   "source": [
    "hfc23.loc[\"F.  Product uses as substitutes for ODS(2)\"] / 1000 *12690# + (hfc32.loc[\"F.  Product uses as substitutes for ODS(2)\"] / 1000 *705) + (hfc4310mee.loc[\"F.  Product uses as substitutes for ODS(2)\"] / 1000 *1470) + (hfc125.loc[\"F.  Product uses as substitutes for ODS(2)\"] / 1000 *3450) + (hfc134a.loc[\"F.  Product uses as substitutes for ODS(2)\"] / 1000 *1360) + (hfc143a.loc[\"F.  Product uses as substitutes for ODS(2)\"] / 1000 *5080) + (hfc152a.loc[\"F.  Product uses as substitutes for ODS(2)\"] / 1000 *148) + (hfc227ea.loc[\"F.  Product uses as substitutes for ODS(2)\"] / 1000 *3140) + (hfc245fa.loc[\"F.  Product uses as substitutes for ODS(2)\"] / 1000 *880) + (hfc365mfc.loc[\"F.  Product uses as substitutes for ODS(2)\"] / 1000 *810)"
   ]
  },
  {
   "cell_type": "code",
   "execution_count": 11,
   "metadata": {
    "tags": [
     "remove-input"
    ]
   },
   "outputs": [],
   "source": [
    "test_ODS = (hfc23.loc[\"F.  Product uses as substitutes for ODS(2)\"] / 1000 *14800) + (hfc32.loc[\"F.  Product uses as substitutes for ODS(2)\"] / 1000 *675) + (hfc4310mee.loc[\"F.  Product uses as substitutes for ODS(2)\"] / 1000 *1640) + (hfc125.loc[\"F.  Product uses as substitutes for ODS(2)\"] / 1000 *3500) + (hfc134a.loc[\"F.  Product uses as substitutes for ODS(2)\"] / 1000 *1430) + (hfc143a.loc[\"F.  Product uses as substitutes for ODS(2)\"] / 1000 *4470) + (hfc152a.loc[\"F.  Product uses as substitutes for ODS(2)\"] / 1000 *124) + (hfc227ea.loc[\"F.  Product uses as substitutes for ODS(2)\"] / 1000 *3220) + (hfc245fa.loc[\"F.  Product uses as substitutes for ODS(2)\"] / 1000 *1030) + (hfc365mfc.loc[\"F.  Product uses as substitutes for ODS(2)\"] / 1000 *794)\n",
    "#test_ODS\n",
    "\n",
    "df_test = pd.DataFrame(test_ODS)\n",
    "df_test.set_index(pd.to_datetime(df_test.index, format='%Y'), inplace=True)\n",
    "\n",
    "df_test[\"ODS\"] = df_test[\"F.  Product uses as substitutes for ODS(2)\"] / 1000\n",
    "df_test[\"Total\"] = invent_fgas_1[\"Total\"]\n",
    "#df_test"
   ]
  },
  {
   "cell_type": "code",
   "execution_count": 11,
   "metadata": {
    "tags": [
     "remove-input"
    ]
   },
   "outputs": [],
   "source": [
    "#test2 = pd.read_csv(r'C:\\Users\\amar1\\UNFCCC_data_local\\2022\\processed_data\\totals\\UK_NIR_2022_all_gases_yearly.csv')\n",
    "#test2.set_index(\"year\", inplace=True)\n",
    "#test2.set_index(pd.to_datetime(test2.index, format='%Y'), inplace=True)\n",
    "#test2[\"Total\"] = test2.sum(axis=1)\n",
    "#test2"
   ]
  },
  {
   "cell_type": "code",
   "execution_count": 12,
   "metadata": {
    "tags": [
     "remove-input"
    ]
   },
   "outputs": [],
   "source": [
    "#test2[\"ODS\"] = df_test[\"F.  Product uses as substitutes for ODS(2)\"]\n",
    "#test2\n",
    "#fgas_fraction = test2[\"ODS\"] / test2[\"Total\"]\n",
    "#fgas_fraction"
   ]
  },
  {
   "cell_type": "code",
   "execution_count": 12,
   "metadata": {
    "tags": [
     "remove-input"
    ]
   },
   "outputs": [],
   "source": [
    "def read_intem(species):\n",
    "\n",
    "    fname = path() / f\"data/intem/Table_UK_2021_{species}.txt\"\n",
    "\n",
    "    with open(fname, \"r\") as f:\n",
    "        headiter = takewhile(lambda s: s.startswith('#'), f)\n",
    "        header = list(headiter)\n",
    "\n",
    "    df = pd.read_csv(fname,\n",
    "                    sep=\",\",\n",
    "                    skipinitialspace=True,\n",
    "                    index_col=\"Year\",\n",
    "                    comment=\"#\")\n",
    "\n",
    "    df = df.apply(pd.to_numeric, errors='ignore')\n",
    "    df.index = pd.to_datetime(df.index, format='%Y')\n",
    "    df.rename(columns = {\"Invent2021\": \"Invent\"}, inplace=True)\n",
    "\n",
    "    for h in header:\n",
    "        if \"GAS\" in h:\n",
    "            species_str = h.split(\":\")[1].strip()\n",
    "        if \"UNITS\" in h:\n",
    "            species_units = h.split(\":\")[1].strip()\n",
    "        if \"GWP\" in h:\n",
    "            species_gwp = float(h.split(\":\")[1].strip())\n",
    "    \n",
    "    return df, species_str, species_units, species_gwp"
   ]
  },
  {
   "cell_type": "code",
   "execution_count": 13,
   "metadata": {
    "tags": [
     "remove-input"
    ]
   },
   "outputs": [],
   "source": [
    "df_ch4, _, _, _ = read_intem(\"ch4\")\n",
    "df_n2o, _, _, _ = read_intem(\"n2o\")\n",
    "#df_ch4"
   ]
  },
  {
   "cell_type": "code",
   "execution_count": 14,
   "metadata": {
    "tags": [
     "remove-input"
    ]
   },
   "outputs": [],
   "source": [
    "# Get F-gases\n",
    "fgas = [f\"hfc{hfc}\" for hfc in [\"23\", \"32\", \"125\", \"134a\", \"143a\", \"152a\", \"227ea\", \"245fa\", \"365mfc\", \"4310mee\"]] + \\\n",
    "    [f\"pfc{pfc}\" for pfc in [\"14\", \"116\", \"218\", \"318\"]] + \\\n",
    "    [\"sf6\"]\n",
    "\n",
    "df_fgas, _, _, _ = read_intem(fgas[0])\n",
    "\n",
    "uncert = df_fgas[\"InTEM_std\"]**2\n",
    "\n",
    "for fg in fgas[1:]:\n",
    "    dfs, _, _, _ = read_intem(fg)\n",
    "    df_fgas += dfs\n",
    "    uncert += df_fgas[\"InTEM_std\"]**2\n",
    "\n",
    "df_fgas[\"InTEM_std\"] = np.sqrt(uncert.values)"
   ]
  },
  {
   "cell_type": "code",
   "execution_count": 15,
   "metadata": {
    "tags": [
     "remove-input"
    ]
   },
   "outputs": [],
   "source": [
    "df_fgas[\"InTEM_ODS\"] = (df_test[\"ODS\"] / df_test[\"Total\"]) * df_fgas[\"InTEM\"]\n",
    "df_fgas[\"InTEM_ODS_std\"] = (df_test[\"ODS\"] / df_test[\"Total\"]) * df_fgas[\"InTEM_std\"]\n",
    "#df_fgas"
   ]
  },
  {
   "cell_type": "code",
   "execution_count": 16,
   "metadata": {
    "tags": [
     "remove-input"
    ]
   },
   "outputs": [],
   "source": [
    "energy_ch4_fraction = pd.DataFrame(dfCH4_CO2_equ.loc[\"1. Energy\"] / dfCH4_CO2_equ.loc[\"Total CH4 emissions with CH4 from LULUCF\"], columns=[\"Energy_Fraction\"])\n",
    "energy_ch4_fraction.index = pd.to_datetime(energy_ch4_fraction.index, format='%Y')\n",
    "#energy_n2o_fraction\n",
    "\n",
    "industry_ch4_fraction = pd.DataFrame(dfCH4_CO2_equ.loc[\"2.  Industrial processes\"] / dfCH4_CO2_equ.loc[\"Total CH4 emissions with CH4 from LULUCF\"], columns=[\"Industry_Fraction\"])\n",
    "industry_ch4_fraction.index = pd.to_datetime(industry_ch4_fraction.index, format='%Y')\n",
    "#industry_n2o_fraction\n",
    "\n",
    "agri_ch4_fraction = pd.DataFrame(dfCH4_CO2_equ.loc[\"3.  Agriculture\"] / dfCH4_CO2_equ.loc[\"Total CH4 emissions with CH4 from LULUCF\"], columns=[\"Agri_Fraction\"])\n",
    "agri_ch4_fraction.index = pd.to_datetime(agri_ch4_fraction.index, format='%Y')\n",
    "#agri_n2o_fraction\n",
    "\n",
    "lulucf_ch4_fraction = pd.DataFrame(dfCH4_CO2_equ.loc[\"4. Land use, land-use change and forestry\"] / dfCH4_CO2_equ.loc[\"Total CH4 emissions with CH4 from LULUCF\"], columns=[\"LULUCF_Fraction\"])\n",
    "lulucf_ch4_fraction.index = pd.to_datetime(lulucf_ch4_fraction.index, format='%Y')\n",
    "#lulucf_n2o_fraction\n",
    "\n",
    "waste_ch4_fraction = pd.DataFrame(dfCH4_CO2_equ.loc[\"5.  Waste\"] / dfCH4_CO2_equ.loc[\"Total CH4 emissions with CH4 from LULUCF\"], columns=[\"Waste_Fraction\"])\n",
    "waste_ch4_fraction.index = pd.to_datetime(waste_ch4_fraction.index, format='%Y')\n",
    "#waste_n2o_fraction"
   ]
  },
  {
   "cell_type": "code",
   "execution_count": 17,
   "metadata": {
    "tags": [
     "remove-input"
    ]
   },
   "outputs": [],
   "source": [
    "frames = [energy_ch4_fraction, industry_ch4_fraction, agri_ch4_fraction, lulucf_ch4_fraction, waste_ch4_fraction, df_ch4]\n",
    "df_ch4_new = pd.concat(frames, axis=1).reindex(df_n2o.index)\n",
    "\n",
    "df_ch4_new[\"InTEM_Energy\"] = df_ch4_new[\"InTEM\"] *df_ch4_new[\"Energy_Fraction\"]\n",
    "df_ch4_new[\"InTEM_Energy_std\"] = df_ch4_new[\"InTEM_std\"] *df_ch4_new[\"Energy_Fraction\"]\n",
    "\n",
    "df_ch4_new[\"InTEM_Industry\"] = df_ch4_new[\"InTEM\"] *df_ch4_new[\"Industry_Fraction\"]\n",
    "df_ch4_new[\"InTEM_Industry_std\"] = df_ch4_new[\"InTEM_std\"] *df_ch4_new[\"Industry_Fraction\"]\n",
    "\n",
    "df_ch4_new[\"InTEM_Agriculture\"] = df_ch4_new[\"InTEM\"] *df_ch4_new[\"Agri_Fraction\"]\n",
    "df_ch4_new[\"InTEM_Agriculture_std\"] = df_ch4_new[\"InTEM_std\"] *df_ch4_new[\"Agri_Fraction\"]\n",
    "\n",
    "df_ch4_new[\"InTEM_LULUCF\"] = df_ch4_new[\"InTEM\"] *df_ch4_new[\"LULUCF_Fraction\"]\n",
    "df_ch4_new[\"InTEM_LULUCF_std\"] = df_ch4_new[\"InTEM_std\"] *df_ch4_new[\"LULUCF_Fraction\"]\n",
    "\n",
    "df_ch4_new[\"InTEM_Waste\"] = df_ch4_new[\"InTEM\"] *df_ch4_new[\"Waste_Fraction\"]\n",
    "df_ch4_new[\"InTEM_Waste_std\"] = df_ch4_new[\"InTEM_std\"] *df_ch4_new[\"Waste_Fraction\"]\n",
    "\n",
    "#df_ch4_new"
   ]
  },
  {
   "cell_type": "code",
   "execution_count": 18,
   "metadata": {
    "tags": [
     "remove-input"
    ]
   },
   "outputs": [],
   "source": [
    "energy_n2o_fraction = pd.DataFrame(dfN2O_CO2_equ.loc[\"1. Energy\"] / dfN2O_CO2_equ.loc[\"Total direct N2O emissions with N2O from LULUCF\"], columns=[\"Energy_Fraction\"])\n",
    "energy_n2o_fraction.index = pd.to_datetime(energy_n2o_fraction.index, format='%Y')\n",
    "#energy_n2o_fraction\n",
    "\n",
    "industry_n2o_fraction = pd.DataFrame(dfN2O_CO2_equ.loc[\"2.  Industrial processes\"] / dfN2O_CO2_equ.loc[\"Total direct N2O emissions with N2O from LULUCF\"], columns=[\"Industry_Fraction\"])\n",
    "industry_n2o_fraction.index = pd.to_datetime(industry_n2o_fraction.index, format='%Y')\n",
    "#industry_n2o_fraction\n",
    "\n",
    "agri_n2o_fraction = pd.DataFrame(dfN2O_CO2_equ.loc[\"3.  Agriculture\"] / dfN2O_CO2_equ.loc[\"Total direct N2O emissions with N2O from LULUCF\"], columns=[\"Agri_Fraction\"])\n",
    "agri_n2o_fraction.index = pd.to_datetime(agri_n2o_fraction.index, format='%Y')\n",
    "#agri_n2o_fraction\n",
    "\n",
    "lulucf_n2o_fraction = pd.DataFrame(dfN2O_CO2_equ.loc[\"4. Land use, land-use change and forestry\"] / dfN2O_CO2_equ.loc[\"Total direct N2O emissions with N2O from LULUCF\"], columns=[\"LULUCF_Fraction\"])\n",
    "lulucf_n2o_fraction.index = pd.to_datetime(lulucf_n2o_fraction.index, format='%Y')\n",
    "#lulucf_n2o_fraction\n",
    "\n",
    "waste_n2o_fraction = pd.DataFrame(dfN2O_CO2_equ.loc[\"5.  Waste\"] / dfN2O_CO2_equ.loc[\"Total direct N2O emissions with N2O from LULUCF\"], columns=[\"Waste_Fraction\"])\n",
    "waste_n2o_fraction.index = pd.to_datetime(waste_n2o_fraction.index, format='%Y')\n",
    "#waste_n2o_fraction"
   ]
  },
  {
   "cell_type": "code",
   "execution_count": 19,
   "metadata": {
    "tags": [
     "remove-input"
    ]
   },
   "outputs": [],
   "source": [
    "frames = [energy_n2o_fraction, industry_n2o_fraction, agri_n2o_fraction, lulucf_n2o_fraction, waste_n2o_fraction, df_n2o]\n",
    "df_n2o_new = pd.concat(frames, axis=1).reindex(df_n2o.index)\n",
    "\n",
    "df_n2o_new[\"InTEM_Energy\"] = df_n2o_new[\"InTEM\"] *df_n2o_new[\"Energy_Fraction\"]\n",
    "df_n2o_new[\"InTEM_Energy_std\"] = df_n2o_new[\"InTEM_std\"] *df_n2o_new[\"Energy_Fraction\"]\n",
    "\n",
    "df_n2o_new[\"InTEM_Industry\"] = df_n2o_new[\"InTEM\"] *df_n2o_new[\"Industry_Fraction\"]\n",
    "df_n2o_new[\"InTEM_Industry_std\"] = df_n2o_new[\"InTEM_std\"] *df_n2o_new[\"Industry_Fraction\"]\n",
    "\n",
    "df_n2o_new[\"InTEM_Agriculture\"] = df_n2o_new[\"InTEM\"] *df_n2o_new[\"Agri_Fraction\"]\n",
    "df_n2o_new[\"InTEM_Agriculture_std\"] = df_n2o_new[\"InTEM_std\"] *df_n2o_new[\"Agri_Fraction\"]\n",
    "\n",
    "df_n2o_new[\"InTEM_LULUCF\"] = df_n2o_new[\"InTEM\"] *df_n2o_new[\"LULUCF_Fraction\"]\n",
    "df_n2o_new[\"InTEM_LULUCF_std\"] = df_n2o_new[\"InTEM_std\"] *df_n2o_new[\"LULUCF_Fraction\"]\n",
    "\n",
    "df_n2o_new[\"InTEM_Waste\"] = df_n2o_new[\"InTEM\"] *df_n2o_new[\"Waste_Fraction\"]\n",
    "df_n2o_new[\"InTEM_Waste_std\"] = df_n2o_new[\"InTEM_std\"] *df_n2o_new[\"Waste_Fraction\"]\n",
    "\n",
    "#df_n2o_new"
   ]
  },
  {
   "cell_type": "code",
   "execution_count": 20,
   "metadata": {
    "tags": [
     "remove-input"
    ]
   },
   "outputs": [],
   "source": [
    "energy_both = dfN2O_CO2_equ.loc[\"1. Energy\"] + dfCH4_CO2_equ.loc[\"1. Energy\"]\n",
    "industrial_both = dfN2O_CO2_equ.loc[\"2.  Industrial processes\"] + dfCH4_CO2_equ.loc[\"2.  Industrial processes\"]\n",
    "agricultural_both = dfN2O_CO2_equ.loc[\"3.  Agriculture\"] + dfCH4_CO2_equ.loc[\"3.  Agriculture\"]\n",
    "LULUCF_both = dfN2O_CO2_equ.loc[\"4. Land use, land-use change and forestry\"] + dfCH4_CO2_equ.loc[\"4. Land use, land-use change and forestry\"]\n",
    "waste_both = dfN2O_CO2_equ.loc[\"5.  Waste\"] + dfCH4_CO2_equ.loc[\"5.  Waste\"]"
   ]
  },
  {
   "cell_type": "code",
   "execution_count": 21,
   "metadata": {
    "tags": [
     "remove-input"
    ]
   },
   "outputs": [],
   "source": [
    "energy_both_intem = pd.DataFrame(df_n2o_new[\"InTEM_Energy\"] + df_ch4_new[\"InTEM_Energy\"], columns=[\"InTEM_Energy\"])\n",
    "energy_both_intem[\"InTEM_Energy_std\"] = df_n2o_new[\"InTEM_Energy_std\"] + df_ch4_new[\"InTEM_Energy_std\"]\n",
    "energy_both_intem.index = pd.to_datetime(energy_both_intem.index, format='%Y')\n",
    "#energy_both_intem\n",
    "\n",
    "industrial_both_intem = pd.DataFrame(df_n2o_new[\"InTEM_Industry\"] + df_ch4_new[\"InTEM_Industry\"], columns=[\"InTEM_Industry\"])\n",
    "industrial_both_intem[\"InTEM_Industry_std\"] = df_n2o_new[\"InTEM_Industry_std\"] + df_ch4_new[\"InTEM_Industry_std\"]\n",
    "industrial_both_intem.index = pd.to_datetime(industrial_both_intem.index, format='%Y')\n",
    "#industrial_both_intem\n",
    "\n",
    "agricultural_both_intem = pd.DataFrame(df_n2o_new[\"InTEM_Agriculture\"] + df_ch4_new[\"InTEM_Agriculture\"], columns=[\"InTEM_Agriculture\"])\n",
    "agricultural_both_intem[\"InTEM_Agriculture_std\"] = df_n2o_new[\"InTEM_Agriculture_std\"] + df_ch4_new[\"InTEM_Agriculture_std\"]\n",
    "agricultural_both_intem.index = pd.to_datetime(agricultural_both_intem.index, format='%Y')\n",
    "#agricultural_both_intem\n",
    "\n",
    "LULUCF_both_intem = pd.DataFrame(df_n2o_new[\"InTEM_LULUCF\"] + df_ch4_new[\"InTEM_LULUCF\"], columns=[\"InTEM_LULUCF\"])\n",
    "LULUCF_both_intem[\"InTEM_LULUCF_std\"] = df_n2o_new[\"InTEM_LULUCF_std\"] + df_ch4_new[\"InTEM_LULUCF_std\"]\n",
    "LULUCF_both_intem.index = pd.to_datetime(LULUCF_both_intem.index, format='%Y')\n",
    "#LULUCF_both_intem\n",
    "\n",
    "waste_both_intem = pd.DataFrame(df_n2o_new[\"InTEM_Waste\"] + df_ch4_new[\"InTEM_Waste\"], columns=[\"InTEM_Waste\"])\n",
    "waste_both_intem[\"InTEM_Waste_std\"] = df_n2o_new[\"InTEM_Waste_std\"] + df_ch4_new[\"InTEM_Waste_std\"]\n",
    "waste_both_intem.index = pd.to_datetime(waste_both_intem.index, format='%Y')\n",
    "#waste_both_intem"
   ]
  },
  {
   "cell_type": "code",
   "execution_count": 32,
   "metadata": {
    "tags": [
     "remove-input"
    ]
   },
   "outputs": [
    {
     "data": {
      "application/vnd.plotly.v1+json": {
       "config": {
        "plotlyServerURL": "https://plot.ly"
       },
       "data": [
        {
         "hovertemplate": "Inventory Energy %{x|%Y}: %{y:.0f} Gt yr⁻¹<extra></extra>",
         "line": {
          "color": "rgba(86, 119, 194, 1)",
          "width": 3
         },
         "mode": "lines",
         "name": "Energy and Transport",
         "showlegend": true,
         "type": "scatter",
         "x": [
          1990,
          1991,
          1992,
          1993,
          1994,
          1995,
          1996,
          1997,
          1998,
          1999,
          2000,
          2001,
          2002,
          2003,
          2004,
          2005,
          2006,
          2007,
          2008,
          2009,
          2010,
          2011,
          2012,
          2013,
          2014,
          2015,
          2016,
          2017,
          2018,
          2019,
          2020
         ],
         "y": [
          45.179509785001066,
          45.73767047546182,
          45.157984524908144,
          42.969182987837655,
          34.62882831695147,
          35.67838566311227,
          33.80251175296846,
          31.302170409031415,
          28.685231414954515,
          25.666416988399593,
          23.569558821908434,
          22.111072007424664,
          21.03993672761122,
          19.149499783559076,
          18.622909728296634,
          16.52811978155463,
          15.511233662725946,
          14.818078074572435,
          14.055790591486307,
          13.676512356250626,
          13.479069883273578,
          12.991354700405434,
          13.07146622771198,
          11.746271007775007,
          11.208987363625953,
          10.74810078070984,
          9.553787584219041,
          9.466175305030944,
          9.482925330334258,
          9.211197527780653,
          8.510997666659668
         ]
        },
        {
         "hovertemplate": "Inventory Industrial Processes %{x|%Y}: %{y:.0f} Gt yr⁻¹<extra></extra>",
         "line": {
          "color": "rgba(99, 182, 137, 1)",
          "width": 3
         },
         "mode": "lines",
         "name": "Industrial processes",
         "showlegend": true,
         "type": "scatter",
         "x": [
          1990,
          1991,
          1992,
          1993,
          1994,
          1995,
          1996,
          1997,
          1998,
          1999,
          2000,
          2001,
          2002,
          2003,
          2004,
          2005,
          2006,
          2007,
          2008,
          2009,
          2010,
          2011,
          2012,
          2013,
          2014,
          2015,
          2016,
          2017,
          2018,
          2019,
          2020
         ],
         "y": [
          22.037451497049318,
          22.17866733669317,
          18.31930364827804,
          14.936571052715243,
          14.92916787415706,
          13.528933669484873,
          13.467453041903864,
          13.590305732317498,
          13.77762071853384,
          5.307962388296196,
          5.461944604975088,
          4.8381501262348285,
          3.4191753038574024,
          3.235379542224887,
          4.033036998525555,
          3.4154549840298394,
          2.9230598176914038,
          3.316549552104786,
          3.1178403785314,
          1.8916053434230964,
          2.008423150834767,
          1.171027287579623,
          0.9622118576634369,
          0.9233282604234394,
          0.9386520685549985,
          0.8572219118581148,
          0.8758624628218388,
          0.8903005057219404,
          0.8506770945506433,
          0.9002301961190864,
          0.8115091604101266
         ]
        },
        {
         "hovertemplate": "Inventory Agriculture %{x|%Y}: %{y:.0f} Gt yr⁻¹<extra></extra>",
         "line": {
          "color": "rgba(238,92,66, 1)",
          "width": 3
         },
         "mode": "lines",
         "name": "Agriculture",
         "showlegend": true,
         "type": "scatter",
         "x": [
          1990,
          1991,
          1992,
          1993,
          1994,
          1995,
          1996,
          1997,
          1998,
          1999,
          2000,
          2001,
          2002,
          2003,
          2004,
          2005,
          2006,
          2007,
          2008,
          2009,
          2010,
          2011,
          2012,
          2013,
          2014,
          2015,
          2016,
          2017,
          2018,
          2019,
          2020
         ],
         "y": [
          49.0202702563682,
          48.670440404141154,
          48.34485386518972,
          47.88754526703726,
          48.54982923962767,
          48.357725298159984,
          49.21303656294575,
          49.225648850766376,
          49.059766624433266,
          48.942183648117854,
          47.17570541756997,
          44.985981422384675,
          44.47015601847343,
          44.62171872936112,
          44.678887496376944,
          44.51487896460896,
          43.41274021331501,
          42.947714026465356,
          41.71142231125263,
          41.460199696417604,
          41.80673964122353,
          41.641736222235956,
          41.381406771010845,
          41.37818491594139,
          42.589002233328735,
          42.40246793649317,
          42.13575550818723,
          42.61410896140907,
          41.939501083246114,
          41.96584868873714,
          40.89727365202725
         ]
        },
        {
         "hovertemplate": "Inventory LULUCF %{x|%Y}: %{y:.0f} Gt yr⁻¹<extra></extra>",
         "line": {
          "color": "rgba(255,215,0, 1)",
          "width": 3
         },
         "mode": "lines",
         "name": "Land use, Land-use change and forestry",
         "showlegend": true,
         "type": "scatter",
         "x": [
          1990,
          1991,
          1992,
          1993,
          1994,
          1995,
          1996,
          1997,
          1998,
          1999,
          2000,
          2001,
          2002,
          2003,
          2004,
          2005,
          2006,
          2007,
          2008,
          2009,
          2010,
          2011,
          2012,
          2013,
          2014,
          2015,
          2016,
          2017,
          2018,
          2019,
          2020
         ],
         "y": [
          7.498198498614329,
          7.48162587021146,
          7.451239474978252,
          7.430371151898379,
          7.406896687026319,
          7.4074661787235225,
          7.362762352209469,
          7.353611018360878,
          7.310822990617182,
          7.268152934912806,
          7.263501890322363,
          7.231118744356667,
          7.205786090469837,
          7.239862215582757,
          7.163498311282363,
          7.152616097490409,
          7.119548130359423,
          7.121245026129101,
          7.082901919818326,
          7.051527499804924,
          7.063206501031638,
          7.0798487790066185,
          7.037584263706519,
          7.037596152075782,
          6.98565885765614,
          7.009380786052774,
          7.006093240235636,
          6.988843012585205,
          7.053206912945878,
          7.105026708235744,
          7.05063888831752
         ]
        },
        {
         "hovertemplate": "Inventory Waste %{x|%Y}: %{y:.0f} Gt yr⁻¹<extra></extra>",
         "line": {
          "color": "rgba(142,229,238, 1)",
          "width": 3
         },
         "mode": "lines",
         "name": "Waste",
         "showlegend": true,
         "type": "scatter",
         "x": [
          1990,
          1991,
          1992,
          1993,
          1994,
          1995,
          1996,
          1997,
          1998,
          1999,
          2000,
          2001,
          2002,
          2003,
          2004,
          2005,
          2006,
          2007,
          2008,
          2009,
          2010,
          2011,
          2012,
          2013,
          2014,
          2015,
          2016,
          2017,
          2018,
          2019,
          2020
         ],
         "y": [
          71.21864496583129,
          71.92923844092655,
          72.17132618118362,
          72.80658108553295,
          73.38519512737085,
          74.56160747325953,
          74.85760897240296,
          74.8260442668434,
          73.64163913720714,
          70.60241851905488,
          67.85268644901447,
          65.53639503444515,
          64.3220845107914,
          60.33058835628418,
          55.51373951176135,
          52.63213530294401,
          49.44456832682351,
          45.98147675105427,
          40.97579728467216,
          36.663401350357624,
          31.50853532692549,
          29.203212116304673,
          27.561770878679532,
          24.347287918563865,
          21.940413318908693,
          21.235966864506977,
          20.43141054451237,
          20.90428362181699,
          20.872257352916662,
          20.72833559614558,
          19.312643516266235
         ]
        },
        {
         "hoverinfo": "skip",
         "line": {
          "color": "rgba(86, 119, 194, 0.6)",
          "width": 0.1
         },
         "mode": "lines",
         "showlegend": false,
         "type": "scatter",
         "x": [
          1990,
          1991,
          1992,
          1993,
          1994,
          1995,
          1996,
          1997,
          1998,
          1999,
          2000,
          2001,
          2002,
          2003,
          2004,
          2005,
          2006,
          2007,
          2008,
          2009,
          2010,
          2011,
          2012,
          2013,
          2014,
          2015,
          2016,
          2017,
          2018,
          2019,
          2020
         ],
         "y": [
          null,
          null,
          null,
          null,
          null,
          13.304215821514966,
          16.21893695152453,
          12.782405033444256,
          13.161635696517774,
          11.500553034515367,
          9.131579450613152,
          10.817768625386185,
          9.738094837375563,
          10.305466822735385,
          10.345962273137825,
          9.485049691507069,
          8.628698388753136,
          9.60276509855211,
          8.324461706636075,
          7.696390935357444,
          9.369909343274916,
          7.667757169087046,
          12.814942832387374,
          10.988791766524418,
          11.040490559898258,
          10.211223106193753,
          9.460206487906227,
          8.999410862012423,
          9.370647525660873,
          8.59992061728603,
          7.946916091985138,
          null
         ]
        },
        {
         "fill": "tonexty",
         "hoverinfo": "skip",
         "line": {
          "color": "rgba(86, 119, 194, 0.6)",
          "width": 0.1
         },
         "mode": "lines",
         "showlegend": false,
         "type": "scatter",
         "x": [
          1990,
          1991,
          1992,
          1993,
          1994,
          1995,
          1996,
          1997,
          1998,
          1999,
          2000,
          2001,
          2002,
          2003,
          2004,
          2005,
          2006,
          2007,
          2008,
          2009,
          2010,
          2011,
          2012,
          2013,
          2014,
          2015,
          2016,
          2017,
          2018,
          2019,
          2020
         ],
         "y": [
          null,
          null,
          null,
          null,
          null,
          17.78378358025732,
          20.737254260080615,
          17.16057667349371,
          17.598833334220608,
          16.30255365224817,
          12.857531481887442,
          14.69005009163473,
          13.684931746426301,
          14.220315146281793,
          13.979036661319903,
          12.690765266096584,
          12.119656782495404,
          12.954096429569644,
          11.603255896207564,
          11.080271270027277,
          12.474834718482676,
          11.046837148241558,
          14.806100466794668,
          12.625765516825066,
          12.28114944654236,
          11.39846577369294,
          10.641916066537455,
          10.069690397880374,
          10.552363328837506,
          9.627751399340882,
          8.95312863420384,
          null
         ]
        },
        {
         "hovertemplate": "InTEM %{x|%Y}: %{y:.0f} Gt yr⁻¹<extra></extra>",
         "line": {
          "color": "rgba(86, 119, 194, 1)",
          "dash": "dot",
          "width": 0.1
         },
         "mode": "lines",
         "name": "InTEM",
         "showlegend": false,
         "type": "scatter",
         "x": [
          1990,
          1991,
          1992,
          1993,
          1994,
          1995,
          1996,
          1997,
          1998,
          1999,
          2000,
          2001,
          2002,
          2003,
          2004,
          2005,
          2006,
          2007,
          2008,
          2009,
          2010,
          2011,
          2012,
          2013,
          2014,
          2015,
          2016,
          2017,
          2018,
          2019,
          2020
         ],
         "y": [
          null,
          null,
          null,
          null,
          null,
          15.543999700886143,
          18.478095605802572,
          14.971490853468984,
          15.38023451536919,
          13.901553343381769,
          10.994555466250297,
          12.753909358510457,
          11.711513291900932,
          12.262890984508589,
          12.162499467228864,
          11.087907478801826,
          10.37417758562427,
          11.278430764060877,
          9.96385880142182,
          9.38833110269236,
          10.922372030878796,
          9.357297158664302,
          13.81052164959102,
          11.807278641674742,
          11.660820003220309,
          10.804844439943347,
          10.05106127722184,
          9.534550629946398,
          9.96150542724919,
          9.113836008313456,
          8.450022363094488,
          null
         ]
        },
        {
         "hovertemplate": "InTEM Energy %{x|%Y}: %{y:.0f} Gt yr⁻¹<extra></extra>",
         "line": {
          "color": "rgba(86, 119, 194, 1)",
          "dash": "dot",
          "width": 5
         },
         "mode": "lines",
         "name": "Energy",
         "showlegend": false,
         "type": "scatter",
         "x": [
          1990,
          1991,
          1992,
          1993,
          1994,
          1995,
          1996,
          1997,
          1998,
          1999,
          2000,
          2001,
          2002,
          2003,
          2004,
          2005,
          2006,
          2007,
          2008,
          2009,
          2010,
          2011,
          2012,
          2013,
          2014,
          2015,
          2016,
          2017,
          2018,
          2019,
          2020
         ],
         "y": [
          null,
          null,
          null,
          null,
          null,
          15.543999700886143,
          18.478095605802572,
          14.971490853468984,
          15.38023451536919,
          13.901553343381769,
          10.994555466250297,
          12.753909358510457,
          11.711513291900932,
          12.262890984508589,
          12.162499467228864,
          11.087907478801826,
          10.37417758562427,
          11.278430764060877,
          9.96385880142182,
          9.38833110269236,
          10.922372030878796,
          9.357297158664302,
          13.81052164959102,
          11.807278641674742,
          11.660820003220309,
          10.804844439943347,
          10.05106127722184,
          9.534550629946398,
          9.96150542724919,
          9.113836008313456,
          8.450022363094488,
          null
         ]
        },
        {
         "hoverinfo": "skip",
         "line": {
          "color": "rgba(99, 182, 137, 0.6)",
          "width": 0.1
         },
         "mode": "lines",
         "showlegend": false,
         "type": "scatter",
         "x": [
          1990,
          1991,
          1992,
          1993,
          1994,
          1995,
          1996,
          1997,
          1998,
          1999,
          2000,
          2001,
          2002,
          2003,
          2004,
          2005,
          2006,
          2007,
          2008,
          2009,
          2010,
          2011,
          2012,
          2013,
          2014,
          2015,
          2016,
          2017,
          2018,
          2019,
          2020
         ],
         "y": [
          null,
          null,
          null,
          null,
          null,
          6.9635291506032395,
          10.670552627771132,
          8.364943156289922,
          10.574618055663917,
          4.127689455093126,
          3.3290316811067813,
          3.6076150290682856,
          2.448756474639627,
          2.652758857101513,
          3.7924024827899476,
          2.9019650500642884,
          2.047228823695405,
          3.2690257039837536,
          2.077314230563557,
          1.3209729495500266,
          1.5012815407424944,
          0.8001436633538556,
          1.1331006909136734,
          0.9947931087812846,
          1.0172459567876502,
          0.8794175085909679,
          0.9906226844299775,
          0.9850026701992994,
          0.9672649722848082,
          0.9345693264437602,
          0.8603428411430973,
          null
         ]
        },
        {
         "fill": "tonexty",
         "hoverinfo": "skip",
         "line": {
          "color": "rgba(99, 182, 137, 0.6)",
          "width": 0.1
         },
         "mode": "lines",
         "showlegend": false,
         "type": "scatter",
         "x": [
          1990,
          1991,
          1992,
          1993,
          1994,
          1995,
          1996,
          1997,
          1998,
          1999,
          2000,
          2001,
          2002,
          2003,
          2004,
          2005,
          2006,
          2007,
          2008,
          2009,
          2010,
          2011,
          2012,
          2013,
          2014,
          2015,
          2016,
          2017,
          2018,
          2019,
          2020
         ],
         "y": [
          null,
          null,
          null,
          null,
          null,
          10.791939785868525,
          14.505205273797442,
          12.6996459567848,
          14.845656952703854,
          6.343734434981055,
          5.170014910938197,
          5.582427517054609,
          3.9347807301013265,
          4.043344753714579,
          5.48228290617325,
          4.282070375814897,
          3.43974249610665,
          4.754320855362797,
          3.450792940114443,
          2.216835398256026,
          2.386978269588398,
          1.4067526532746792,
          1.402704171904593,
          1.2119435966251941,
          1.1909613437956594,
          1.0326718267904804,
          1.156565989841149,
          1.1433162681279434,
          1.1329774102007462,
          1.0838318203396473,
          1.0074717701101261,
          null
         ]
        },
        {
         "hovertemplate": "InTEM %{x|%Y}: %{y:.0f} Gt yr⁻¹<extra></extra>",
         "line": {
          "color": "rgba(99, 182, 137, 1)",
          "dash": "dot",
          "width": 0.1
         },
         "mode": "lines",
         "name": "InTEM",
         "showlegend": false,
         "type": "scatter",
         "x": [
          1990,
          1991,
          1992,
          1993,
          1994,
          1995,
          1996,
          1997,
          1998,
          1999,
          2000,
          2001,
          2002,
          2003,
          2004,
          2005,
          2006,
          2007,
          2008,
          2009,
          2010,
          2011,
          2012,
          2013,
          2014,
          2015,
          2016,
          2017,
          2018,
          2019,
          2020
         ],
         "y": [
          null,
          null,
          null,
          null,
          null,
          8.877734468235882,
          12.587878950784287,
          10.53229455653736,
          12.710137504183885,
          5.235711945037091,
          4.249523296022489,
          4.595021273061447,
          3.1917686023704768,
          3.348051805408046,
          4.637342694481599,
          3.5920177129395925,
          2.7434856599010273,
          4.011673279673276,
          2.764053585339,
          1.7689041739030262,
          1.9441299051654461,
          1.1034481583142675,
          1.2679024314091332,
          1.1033683527032394,
          1.1041036502916548,
          0.9560446676907242,
          1.0735943371355632,
          1.0641594691636214,
          1.0501211912427773,
          1.0092005733917038,
          0.9339073056266117,
          null
         ]
        },
        {
         "hovertemplate": "InTEM Industrial Processes %{x|%Y}: %{y:.0f} Gt yr⁻¹<extra></extra>",
         "line": {
          "color": "rgba(99, 182, 137, 1)",
          "dash": "dot",
          "width": 5
         },
         "mode": "lines",
         "name": "Industrial processes",
         "showlegend": false,
         "type": "scatter",
         "x": [
          1990,
          1991,
          1992,
          1993,
          1994,
          1995,
          1996,
          1997,
          1998,
          1999,
          2000,
          2001,
          2002,
          2003,
          2004,
          2005,
          2006,
          2007,
          2008,
          2009,
          2010,
          2011,
          2012,
          2013,
          2014,
          2015,
          2016,
          2017,
          2018,
          2019,
          2020
         ],
         "y": [
          null,
          null,
          null,
          null,
          null,
          8.877734468235882,
          12.587878950784287,
          10.53229455653736,
          12.710137504183885,
          5.235711945037091,
          4.249523296022489,
          4.595021273061447,
          3.1917686023704768,
          3.348051805408046,
          4.637342694481599,
          3.5920177129395925,
          2.7434856599010273,
          4.011673279673276,
          2.764053585339,
          1.7689041739030262,
          1.9441299051654461,
          1.1034481583142675,
          1.2679024314091332,
          1.1033683527032394,
          1.1041036502916548,
          0.9560446676907242,
          1.0735943371355632,
          1.0641594691636214,
          1.0501211912427773,
          1.0092005733917038,
          0.9339073056266117,
          null
         ]
        },
        {
         "hoverinfo": "skip",
         "line": {
          "color": "rgba(238,92,66, 0.6)",
          "width": 0.1
         },
         "mode": "lines",
         "showlegend": false,
         "type": "scatter",
         "x": [
          1990,
          1991,
          1992,
          1993,
          1994,
          1995,
          1996,
          1997,
          1998,
          1999,
          2000,
          2001,
          2002,
          2003,
          2004,
          2005,
          2006,
          2007,
          2008,
          2009,
          2010,
          2011,
          2012,
          2013,
          2014,
          2015,
          2016,
          2017,
          2018,
          2019,
          2020
         ],
         "y": [
          null,
          null,
          null,
          null,
          null,
          19.85895519044942,
          27.695152704968116,
          22.818557139326455,
          26.325865696027495,
          25.97631846483191,
          20.749388295452583,
          24.685577226516404,
          23.242726327425324,
          26.84916474864813,
          28.52924162441073,
          27.96051137790875,
          25.32205010738656,
          30.476413165594074,
          25.296053897651856,
          24.5340253885287,
          29.51787828633308,
          25.42067599275501,
          42.306965792119065,
          39.889669391605956,
          42.778864694449325,
          40.814011320626975,
          42.60394533494093,
          41.51529050613433,
          42.356480692632466,
          39.82184615027494,
          38.90283453802618,
          null
         ]
        },
        {
         "fill": "tonexty",
         "hoverinfo": "skip",
         "line": {
          "color": "rgba(238,92,66, 0.6)",
          "width": 0.1
         },
         "mode": "lines",
         "showlegend": false,
         "type": "scatter",
         "x": [
          1990,
          1991,
          1992,
          1993,
          1994,
          1995,
          1996,
          1997,
          1998,
          1999,
          2000,
          2001,
          2002,
          2003,
          2004,
          2005,
          2006,
          2007,
          2008,
          2009,
          2010,
          2011,
          2012,
          2013,
          2014,
          2015,
          2016,
          2017,
          2018,
          2019,
          2020
         ],
         "y": [
          null,
          null,
          null,
          null,
          null,
          27.958160626394573,
          36.24662592970531,
          32.05255198691762,
          35.83455777479374,
          37.961941722469085,
          30.19943013442053,
          34.996351902546536,
          34.178670169778265,
          38.239528057420976,
          39.403259318133124,
          38.434108188692356,
          37.137040098054015,
          41.925946748559916,
          36.68555379372357,
          36.798110777143606,
          40.983526237471146,
          38.58773427330803,
          49.73707653374972,
          46.45296660259168,
          48.11797985366317,
          45.97486710942346,
          48.227170925210686,
          46.750364937531636,
          48.01340429397553,
          44.83713690873902,
          44.09512222016773,
          null
         ]
        },
        {
         "hovertemplate": "InTEM %{x|%Y}: %{y:.0f} Gt yr⁻¹<extra></extra>",
         "line": {
          "color": "rgba(238,92,66, 1)",
          "dash": "dot",
          "width": 0.1
         },
         "mode": "lines",
         "name": "InTEM",
         "showlegend": false,
         "type": "scatter",
         "x": [
          1990,
          1991,
          1992,
          1993,
          1994,
          1995,
          1996,
          1997,
          1998,
          1999,
          2000,
          2001,
          2002,
          2003,
          2004,
          2005,
          2006,
          2007,
          2008,
          2009,
          2010,
          2011,
          2012,
          2013,
          2014,
          2015,
          2016,
          2017,
          2018,
          2019,
          2020
         ],
         "y": [
          null,
          null,
          null,
          null,
          null,
          23.908557908421997,
          31.970889317336713,
          27.43555456312204,
          31.080211735410618,
          31.969130093650495,
          25.474409214936557,
          29.84096456453147,
          28.710698248601794,
          32.54434640303455,
          33.96625047127193,
          33.197309783300554,
          31.229545102720287,
          36.201179957076995,
          30.99080384568771,
          30.666068082836155,
          35.25070226190211,
          32.00420513303152,
          46.022021162934394,
          43.17131799709882,
          45.44842227405625,
          43.394439215025216,
          45.41555813007581,
          44.13282772183298,
          45.184942493304,
          42.32949152950698,
          41.498978379096954,
          null
         ]
        },
        {
         "hovertemplate": "InTEM Agriculture %{x|%Y}: %{y:.0f} Gt yr⁻¹<extra></extra>",
         "line": {
          "color": "rgba(238,92,66, 1)",
          "dash": "dot",
          "width": 5
         },
         "mode": "lines",
         "name": "Agriculture",
         "showlegend": false,
         "type": "scatter",
         "x": [
          1990,
          1991,
          1992,
          1993,
          1994,
          1995,
          1996,
          1997,
          1998,
          1999,
          2000,
          2001,
          2002,
          2003,
          2004,
          2005,
          2006,
          2007,
          2008,
          2009,
          2010,
          2011,
          2012,
          2013,
          2014,
          2015,
          2016,
          2017,
          2018,
          2019,
          2020
         ],
         "y": [
          null,
          null,
          null,
          null,
          null,
          23.908557908421997,
          31.970889317336713,
          27.43555456312204,
          31.080211735410618,
          31.969130093650495,
          25.474409214936557,
          29.84096456453147,
          28.710698248601794,
          32.54434640303455,
          33.96625047127193,
          33.197309783300554,
          31.229545102720287,
          36.201179957076995,
          30.99080384568771,
          30.666068082836155,
          35.25070226190211,
          32.00420513303152,
          46.022021162934394,
          43.17131799709882,
          45.44842227405625,
          43.394439215025216,
          45.41555813007581,
          44.13282772183298,
          45.184942493304,
          42.32949152950698,
          41.498978379096954,
          null
         ]
        },
        {
         "hoverinfo": "skip",
         "line": {
          "color": "rgba(255,215,0, 0.6)",
          "width": 0.1
         },
         "mode": "lines",
         "showlegend": false,
         "type": "scatter",
         "x": [
          1990,
          1991,
          1992,
          1993,
          1994,
          1995,
          1996,
          1997,
          1998,
          1999,
          2000,
          2001,
          2002,
          2003,
          2004,
          2005,
          2006,
          2007,
          2008,
          2009,
          2010,
          2011,
          2012,
          2013,
          2014,
          2015,
          2016,
          2017,
          2018,
          2019,
          2020
         ],
         "y": [
          null,
          null,
          null,
          null,
          null,
          2.9887749543466264,
          4.021350016635645,
          3.3178619378454317,
          3.7916428241475484,
          3.700001622144441,
          3.088655074336515,
          3.8301092550423297,
          3.61348765626948,
          4.188208934496127,
          4.352533321761594,
          4.330261559298305,
          4.066288330586895,
          4.853632727489508,
          4.249011448611217,
          4.076872192669531,
          4.948281180969188,
          4.247037138984497,
          7.024794102202767,
          6.647667986865696,
          6.917757073872896,
          6.676820847560261,
          6.95117861346833,
          6.6545702373983495,
          6.973986208180818,
          6.632685898238833,
          6.583623639195582,
          null
         ]
        },
        {
         "fill": "tonexty",
         "hoverinfo": "skip",
         "line": {
          "color": "rgba(255,215,0, 0.6)",
          "width": 0.1
         },
         "mode": "lines",
         "showlegend": false,
         "type": "scatter",
         "x": [
          1990,
          1991,
          1992,
          1993,
          1994,
          1995,
          1996,
          1997,
          1998,
          1999,
          2000,
          2001,
          2002,
          2003,
          2004,
          2005,
          2006,
          2007,
          2008,
          2009,
          2010,
          2011,
          2012,
          2013,
          2014,
          2015,
          2016,
          2017,
          2018,
          2019,
          2020
         ],
         "y": [
          null,
          null,
          null,
          null,
          null,
          4.170327116010183,
          5.2417019291076885,
          4.6186997097341,
          5.142502509508088,
          5.3697391745678065,
          4.458165692458632,
          5.36215555937467,
          5.23663550652499,
          5.901867865273496,
          5.967011868965121,
          5.88940839239424,
          5.853120231359849,
          6.620969719082364,
          6.053000803616271,
          6.0028351201339545,
          6.729528080591329,
          6.277995946794615,
          8.178065584683385,
          7.671592168726977,
          7.718908766952718,
          7.4669045738718705,
          7.8241675609759325,
          7.449053852256268,
          7.854944250568952,
          7.425066874513801,
          7.41732418367529,
          null
         ]
        },
        {
         "hovertemplate": "InTEM %{x|%Y}: %{y:.0f} Gt yr⁻¹<extra></extra>",
         "line": {
          "color": "rgba(255,215,0, 1)",
          "dash": "dot",
          "width": 0.1
         },
         "mode": "lines",
         "name": "InTEM",
         "showlegend": false,
         "type": "scatter",
         "x": [
          1990,
          1991,
          1992,
          1993,
          1994,
          1995,
          1996,
          1997,
          1998,
          1999,
          2000,
          2001,
          2002,
          2003,
          2004,
          2005,
          2006,
          2007,
          2008,
          2009,
          2010,
          2011,
          2012,
          2013,
          2014,
          2015,
          2016,
          2017,
          2018,
          2019,
          2020
         ],
         "y": [
          null,
          null,
          null,
          null,
          null,
          3.579551035178405,
          4.631525972871667,
          3.968280823789766,
          4.467072666827818,
          4.534870398356124,
          3.7734103833975734,
          4.5961324072085,
          4.425061581397235,
          5.045038399884811,
          5.159772595363357,
          5.109834975846272,
          4.959704280973372,
          5.737301223285936,
          5.151006126113744,
          5.039853656401743,
          5.838904630780259,
          5.262516542889556,
          7.601429843443076,
          7.159630077796336,
          7.318332920412807,
          7.071862710716066,
          7.387673087222131,
          7.051812044827309,
          7.414465229374885,
          7.028876386376317,
          7.000473911435436,
          null
         ]
        },
        {
         "hovertemplate": "InTEM LULUCF %{x|%Y}: %{y:.0f} Gt yr⁻¹<extra></extra>",
         "line": {
          "color": "rgba(255,215,0, 1)",
          "dash": "dot",
          "width": 5
         },
         "mode": "lines",
         "name": "Land use, Land-use change and forestry",
         "showlegend": false,
         "type": "scatter",
         "x": [
          1990,
          1991,
          1992,
          1993,
          1994,
          1995,
          1996,
          1997,
          1998,
          1999,
          2000,
          2001,
          2002,
          2003,
          2004,
          2005,
          2006,
          2007,
          2008,
          2009,
          2010,
          2011,
          2012,
          2013,
          2014,
          2015,
          2016,
          2017,
          2018,
          2019,
          2020
         ],
         "y": [
          null,
          null,
          null,
          null,
          null,
          3.579551035178405,
          4.631525972871667,
          3.968280823789766,
          4.467072666827818,
          4.534870398356124,
          3.7734103833975734,
          4.5961324072085,
          4.425061581397235,
          5.045038399884811,
          5.159772595363357,
          5.109834975846272,
          4.959704280973372,
          5.737301223285936,
          5.151006126113744,
          5.039853656401743,
          5.838904630780259,
          5.262516542889556,
          7.601429843443076,
          7.159630077796336,
          7.318332920412807,
          7.071862710716066,
          7.387673087222131,
          7.051812044827309,
          7.414465229374885,
          7.028876386376317,
          7.000473911435436,
          null
         ]
        },
        {
         "hoverinfo": "skip",
         "line": {
          "color": "rgba(142,229,238, 0.6)",
          "width": 0.1
         },
         "mode": "lines",
         "showlegend": false,
         "type": "scatter",
         "x": [
          1990,
          1991,
          1992,
          1993,
          1994,
          1995,
          1996,
          1997,
          1998,
          1999,
          2000,
          2001,
          2002,
          2003,
          2004,
          2005,
          2006,
          2007,
          2008,
          2009,
          2010,
          2011,
          2012,
          2013,
          2014,
          2015,
          2016,
          2017,
          2018,
          2019,
          2020
         ],
         "y": [
          null,
          null,
          null,
          null,
          null,
          26.83752488308575,
          33.74800769910057,
          29.04323273309393,
          31.31823772764327,
          28.75943742341516,
          24.247345498490976,
          29.590929863986794,
          27.25193470429,
          29.615400637018837,
          27.380860297899897,
          27.549212321221585,
          26.128734349578014,
          26.857163304380546,
          23.746158716537295,
          19.843738533894303,
          21.645649648680326,
          16.793386035819594,
          26.011196582377128,
          22.04807774622264,
          21.173641714991877,
          19.847527217028045,
          19.59104687925455,
          19.16272572425561,
          19.945620601241032,
          18.85597800775644,
          17.502282889650004,
          null
         ]
        },
        {
         "fill": "tonexty",
         "hoverinfo": "skip",
         "line": {
          "color": "rgba(142,229,238, 0.6)",
          "width": 0.1
         },
         "mode": "lines",
         "showlegend": false,
         "type": "scatter",
         "x": [
          1990,
          1991,
          1992,
          1993,
          1994,
          1995,
          1996,
          1997,
          1998,
          1999,
          2000,
          2001,
          2002,
          2003,
          2004,
          2005,
          2006,
          2007,
          2008,
          2009,
          2010,
          2011,
          2012,
          2013,
          2014,
          2015,
          2016,
          2017,
          2018,
          2019,
          2020
         ],
         "y": [
          null,
          null,
          null,
          null,
          null,
          35.126788891469396,
          42.70521260730894,
          38.20152567306975,
          41.46644942877372,
          39.95803101573389,
          33.3288577802952,
          38.821014929389456,
          36.86198184716911,
          39.66794417730915,
          36.19740924540859,
          35.734647777001925,
          34.85544039198409,
          35.32566624742527,
          31.844396566338155,
          27.599947434439137,
          27.86813269386645,
          23.161679978381123,
          29.55505324286764,
          24.94873211523108,
          23.273000589046095,
          21.898090716221247,
          21.819179457434792,
          21.23057454420379,
          22.22631071641726,
          20.911212997066663,
          19.52095319184302,
          null
         ]
        },
        {
         "hovertemplate": "InTEM %{x|%Y}: %{y:.0f} Gt yr⁻¹<extra></extra>",
         "line": {
          "color": "rgba(142,229,238, 1)",
          "dash": "dot",
          "width": 0.1
         },
         "mode": "lines",
         "name": "InTEM",
         "showlegend": false,
         "type": "scatter",
         "x": [
          1990,
          1991,
          1992,
          1993,
          1994,
          1995,
          1996,
          1997,
          1998,
          1999,
          2000,
          2001,
          2002,
          2003,
          2004,
          2005,
          2006,
          2007,
          2008,
          2009,
          2010,
          2011,
          2012,
          2013,
          2014,
          2015,
          2016,
          2017,
          2018,
          2019,
          2020
         ],
         "y": [
          null,
          null,
          null,
          null,
          null,
          30.982156887277572,
          38.22661015320475,
          33.62237920308184,
          36.3923435782085,
          34.35873421957452,
          28.788101639393087,
          34.205972396688125,
          32.056958275729556,
          34.641672407163995,
          31.789134771654243,
          31.641930049111753,
          30.492087370781054,
          31.09141477590291,
          27.795277641437725,
          23.72184298416672,
          24.756891171273388,
          19.97753300710036,
          27.783124912622384,
          23.49840493072686,
          22.223321152018986,
          20.872808966624646,
          20.70511316834467,
          20.1966501342297,
          21.085965658829146,
          19.883595502411552,
          18.511618040746512,
          null
         ]
        },
        {
         "hovertemplate": "InTEM Waste %{x|%Y}: %{y:.0f} Gt yr⁻¹<extra></extra>",
         "line": {
          "color": "rgba(142,229,238, 1)",
          "dash": "dot",
          "width": 5
         },
         "mode": "lines",
         "name": "Waste",
         "showlegend": false,
         "type": "scatter",
         "x": [
          1990,
          1991,
          1992,
          1993,
          1994,
          1995,
          1996,
          1997,
          1998,
          1999,
          2000,
          2001,
          2002,
          2003,
          2004,
          2005,
          2006,
          2007,
          2008,
          2009,
          2010,
          2011,
          2012,
          2013,
          2014,
          2015,
          2016,
          2017,
          2018,
          2019,
          2020
         ],
         "y": [
          null,
          null,
          null,
          null,
          null,
          30.982156887277572,
          38.22661015320475,
          33.62237920308184,
          36.3923435782085,
          34.35873421957452,
          28.788101639393087,
          34.205972396688125,
          32.056958275729556,
          34.641672407163995,
          31.789134771654243,
          31.641930049111753,
          30.492087370781054,
          31.09141477590291,
          27.795277641437725,
          23.72184298416672,
          24.756891171273388,
          19.97753300710036,
          27.783124912622384,
          23.49840493072686,
          22.223321152018986,
          20.872808966624646,
          20.70511316834467,
          20.1966501342297,
          21.085965658829146,
          19.883595502411552,
          18.511618040746512,
          null
         ]
        },
        {
         "hovertemplate": "Inventory Product uses as substitutes for ODS %{x|%Y}: %{y:.0f} Gt yr⁻¹<extra></extra>",
         "line": {
          "color": "rgba(169,169,169, 1)",
          "width": 3
         },
         "mode": "lines",
         "name": "Product uses as substitutes for ODS",
         "showlegend": true,
         "type": "scatter",
         "x": [
          1990,
          1991,
          1992,
          1993,
          1994,
          1995,
          1996,
          1997,
          1998,
          1999,
          2000,
          2001,
          2002,
          2003,
          2004,
          2005,
          2006,
          2007,
          2008,
          2009,
          2010,
          2011,
          2012,
          2013,
          2014,
          2015,
          2016,
          2017,
          2018,
          2019,
          2020
         ],
         "y": [
          0.008450338357177248,
          0.024929920744964983,
          0.04944311208042849,
          0.22978140364743735,
          0.5259514233011268,
          0.8858301097357428,
          1.373354530445083,
          1.9578844897062475,
          2.736285763871303,
          3.6205775526217927,
          4.4783826241457545,
          5.438523706640146,
          6.240164542901926,
          7.099106071313295,
          7.876265795182239,
          8.652746418266746,
          9.58271889230898,
          10.277921880618022,
          10.762568030896826,
          11.345781154835063,
          11.955582073776881,
          12.611340467530578,
          13.295952361500008,
          13.768369389872872,
          13.994163440297209,
          14.021555235000248,
          14.047364009002838,
          13.968355298764894,
          13.645546523790248,
          13.006261497527502,
          12.182915813377317
         ]
        },
        {
         "hoverinfo": "skip",
         "line": {
          "color": "rgba(169,169,169, 0.6)",
          "width": 0.1
         },
         "mode": "lines",
         "showlegend": false,
         "type": "scatter",
         "x": [
          1990,
          1991,
          1992,
          1993,
          1994,
          1995,
          1996,
          1997,
          1998,
          1999,
          2000,
          2001,
          2002,
          2003,
          2004,
          2005,
          2006,
          2007,
          2008,
          2009,
          2010,
          2011,
          2012,
          2013,
          2014,
          2015,
          2016,
          2017,
          2018,
          2019,
          2020
         ],
         "y": [
          null,
          null,
          null,
          null,
          null,
          null,
          null,
          null,
          null,
          null,
          null,
          null,
          null,
          null,
          null,
          null,
          null,
          null,
          null,
          null,
          null,
          7.3893631111967135,
          8.041977681426454,
          6.1057938042336914,
          5.34198041171606,
          6.661016053540863,
          5.677698183340553,
          5.107291111926181,
          6.201318298433565,
          4.255665758200729,
          3.5573069529737005,
          null
         ]
        },
        {
         "fill": "tonexty",
         "hoverinfo": "skip",
         "line": {
          "color": "rgba(169,169,169, 0.6)",
          "width": 0.1
         },
         "mode": "lines",
         "showlegend": false,
         "type": "scatter",
         "x": [
          1990,
          1991,
          1992,
          1993,
          1994,
          1995,
          1996,
          1997,
          1998,
          1999,
          2000,
          2001,
          2002,
          2003,
          2004,
          2005,
          2006,
          2007,
          2008,
          2009,
          2010,
          2011,
          2012,
          2013,
          2014,
          2015,
          2016,
          2017,
          2018,
          2019,
          2020
         ],
         "y": [
          null,
          null,
          null,
          null,
          null,
          null,
          null,
          null,
          null,
          null,
          null,
          null,
          null,
          null,
          null,
          null,
          null,
          null,
          null,
          null,
          null,
          15.345653512572733,
          16.67626074810176,
          19.14786623346979,
          16.248478531923986,
          16.902755572039712,
          17.879753051829216,
          18.829625984936786,
          17.88940192929111,
          12.153692602362833,
          10.912394818038294,
          null
         ]
        },
        {
         "hovertemplate": "InTEM %{x|%Y}: %{y:.0f} Gt yr⁻¹<extra></extra>",
         "line": {
          "color": "rgba(169,169,169, 1)",
          "dash": "dot",
          "width": 0.1
         },
         "mode": "lines",
         "name": "InTEM",
         "showlegend": false,
         "type": "scatter",
         "x": [
          1990,
          1991,
          1992,
          1993,
          1994,
          1995,
          1996,
          1997,
          1998,
          1999,
          2000,
          2001,
          2002,
          2003,
          2004,
          2005,
          2006,
          2007,
          2008,
          2009,
          2010,
          2011,
          2012,
          2013,
          2014,
          2015,
          2016,
          2017,
          2018,
          2019,
          2020
         ],
         "y": [
          null,
          null,
          null,
          null,
          null,
          null,
          null,
          null,
          null,
          null,
          null,
          null,
          null,
          null,
          null,
          null,
          null,
          null,
          null,
          null,
          null,
          11.367508311884723,
          12.359119214764108,
          12.626830018851741,
          10.795229471820022,
          11.781885812790287,
          11.778725617584884,
          11.968458548431483,
          12.045360113862337,
          8.204679180281781,
          7.234850885505997,
          null
         ]
        },
        {
         "hovertemplate": "InTEM F Gases %{x|%Y}: %{y:.0f} Gt yr⁻¹<extra></extra>",
         "line": {
          "color": "rgba(169,169,169, 1)",
          "dash": "dot",
          "width": 5
         },
         "mode": "lines",
         "name": "F Gases",
         "showlegend": false,
         "type": "scatter",
         "x": [
          1990,
          1991,
          1992,
          1993,
          1994,
          1995,
          1996,
          1997,
          1998,
          1999,
          2000,
          2001,
          2002,
          2003,
          2004,
          2005,
          2006,
          2007,
          2008,
          2009,
          2010,
          2011,
          2012,
          2013,
          2014,
          2015,
          2016,
          2017,
          2018,
          2019,
          2020
         ],
         "y": [
          null,
          null,
          null,
          null,
          null,
          null,
          null,
          null,
          null,
          null,
          null,
          null,
          null,
          null,
          null,
          null,
          null,
          null,
          null,
          null,
          null,
          11.367508311884723,
          12.359119214764108,
          12.626830018851741,
          10.795229471820022,
          11.781885812790287,
          11.778725617584884,
          11.968458548431483,
          12.045360113862337,
          8.204679180281781,
          7.234850885505997,
          null
         ]
        },
        {
         "line": {
          "color": "black",
          "dash": "dot",
          "width": 4
         },
         "marker": {
          "opacity": 0,
          "size": 0
         },
         "name": "InTEM",
         "showlegend": true,
         "type": "scatter",
         "x": [
          "1900-01-01T00:00:00",
          "1900-01-02T00:00:00"
         ],
         "y": [
          0,
          0
         ]
        }
       ],
       "layout": {
        "autosize": false,
        "font": {
         "family": "Arial",
         "size": 12
        },
        "height": 500,
        "legend": {
         "traceorder": "normal",
         "x": 0.99,
         "xanchor": "right",
         "y": 0.99,
         "yanchor": "top"
        },
        "margin": {
         "b": 40,
         "l": 55,
         "r": 10,
         "t": 10
        },
        "template": {
         "data": {
          "bar": [
           {
            "error_x": {
             "color": "rgb(36,36,36)"
            },
            "error_y": {
             "color": "rgb(36,36,36)"
            },
            "marker": {
             "line": {
              "color": "white",
              "width": 0.5
             },
             "pattern": {
              "fillmode": "overlay",
              "size": 10,
              "solidity": 0.2
             }
            },
            "type": "bar"
           }
          ],
          "barpolar": [
           {
            "marker": {
             "line": {
              "color": "white",
              "width": 0.5
             },
             "pattern": {
              "fillmode": "overlay",
              "size": 10,
              "solidity": 0.2
             }
            },
            "type": "barpolar"
           }
          ],
          "carpet": [
           {
            "aaxis": {
             "endlinecolor": "rgb(36,36,36)",
             "gridcolor": "white",
             "linecolor": "white",
             "minorgridcolor": "white",
             "startlinecolor": "rgb(36,36,36)"
            },
            "baxis": {
             "endlinecolor": "rgb(36,36,36)",
             "gridcolor": "white",
             "linecolor": "white",
             "minorgridcolor": "white",
             "startlinecolor": "rgb(36,36,36)"
            },
            "type": "carpet"
           }
          ],
          "choropleth": [
           {
            "colorbar": {
             "outlinewidth": 1,
             "tickcolor": "rgb(36,36,36)",
             "ticks": "outside"
            },
            "type": "choropleth"
           }
          ],
          "contour": [
           {
            "colorbar": {
             "outlinewidth": 1,
             "tickcolor": "rgb(36,36,36)",
             "ticks": "outside"
            },
            "colorscale": [
             [
              0,
              "#440154"
             ],
             [
              0.1111111111111111,
              "#482878"
             ],
             [
              0.2222222222222222,
              "#3e4989"
             ],
             [
              0.3333333333333333,
              "#31688e"
             ],
             [
              0.4444444444444444,
              "#26828e"
             ],
             [
              0.5555555555555556,
              "#1f9e89"
             ],
             [
              0.6666666666666666,
              "#35b779"
             ],
             [
              0.7777777777777778,
              "#6ece58"
             ],
             [
              0.8888888888888888,
              "#b5de2b"
             ],
             [
              1,
              "#fde725"
             ]
            ],
            "type": "contour"
           }
          ],
          "contourcarpet": [
           {
            "colorbar": {
             "outlinewidth": 1,
             "tickcolor": "rgb(36,36,36)",
             "ticks": "outside"
            },
            "type": "contourcarpet"
           }
          ],
          "heatmap": [
           {
            "colorbar": {
             "outlinewidth": 1,
             "tickcolor": "rgb(36,36,36)",
             "ticks": "outside"
            },
            "colorscale": [
             [
              0,
              "#440154"
             ],
             [
              0.1111111111111111,
              "#482878"
             ],
             [
              0.2222222222222222,
              "#3e4989"
             ],
             [
              0.3333333333333333,
              "#31688e"
             ],
             [
              0.4444444444444444,
              "#26828e"
             ],
             [
              0.5555555555555556,
              "#1f9e89"
             ],
             [
              0.6666666666666666,
              "#35b779"
             ],
             [
              0.7777777777777778,
              "#6ece58"
             ],
             [
              0.8888888888888888,
              "#b5de2b"
             ],
             [
              1,
              "#fde725"
             ]
            ],
            "type": "heatmap"
           }
          ],
          "heatmapgl": [
           {
            "colorbar": {
             "outlinewidth": 1,
             "tickcolor": "rgb(36,36,36)",
             "ticks": "outside"
            },
            "colorscale": [
             [
              0,
              "#440154"
             ],
             [
              0.1111111111111111,
              "#482878"
             ],
             [
              0.2222222222222222,
              "#3e4989"
             ],
             [
              0.3333333333333333,
              "#31688e"
             ],
             [
              0.4444444444444444,
              "#26828e"
             ],
             [
              0.5555555555555556,
              "#1f9e89"
             ],
             [
              0.6666666666666666,
              "#35b779"
             ],
             [
              0.7777777777777778,
              "#6ece58"
             ],
             [
              0.8888888888888888,
              "#b5de2b"
             ],
             [
              1,
              "#fde725"
             ]
            ],
            "type": "heatmapgl"
           }
          ],
          "histogram": [
           {
            "marker": {
             "line": {
              "color": "white",
              "width": 0.6
             }
            },
            "type": "histogram"
           }
          ],
          "histogram2d": [
           {
            "colorbar": {
             "outlinewidth": 1,
             "tickcolor": "rgb(36,36,36)",
             "ticks": "outside"
            },
            "colorscale": [
             [
              0,
              "#440154"
             ],
             [
              0.1111111111111111,
              "#482878"
             ],
             [
              0.2222222222222222,
              "#3e4989"
             ],
             [
              0.3333333333333333,
              "#31688e"
             ],
             [
              0.4444444444444444,
              "#26828e"
             ],
             [
              0.5555555555555556,
              "#1f9e89"
             ],
             [
              0.6666666666666666,
              "#35b779"
             ],
             [
              0.7777777777777778,
              "#6ece58"
             ],
             [
              0.8888888888888888,
              "#b5de2b"
             ],
             [
              1,
              "#fde725"
             ]
            ],
            "type": "histogram2d"
           }
          ],
          "histogram2dcontour": [
           {
            "colorbar": {
             "outlinewidth": 1,
             "tickcolor": "rgb(36,36,36)",
             "ticks": "outside"
            },
            "colorscale": [
             [
              0,
              "#440154"
             ],
             [
              0.1111111111111111,
              "#482878"
             ],
             [
              0.2222222222222222,
              "#3e4989"
             ],
             [
              0.3333333333333333,
              "#31688e"
             ],
             [
              0.4444444444444444,
              "#26828e"
             ],
             [
              0.5555555555555556,
              "#1f9e89"
             ],
             [
              0.6666666666666666,
              "#35b779"
             ],
             [
              0.7777777777777778,
              "#6ece58"
             ],
             [
              0.8888888888888888,
              "#b5de2b"
             ],
             [
              1,
              "#fde725"
             ]
            ],
            "type": "histogram2dcontour"
           }
          ],
          "mesh3d": [
           {
            "colorbar": {
             "outlinewidth": 1,
             "tickcolor": "rgb(36,36,36)",
             "ticks": "outside"
            },
            "type": "mesh3d"
           }
          ],
          "parcoords": [
           {
            "line": {
             "colorbar": {
              "outlinewidth": 1,
              "tickcolor": "rgb(36,36,36)",
              "ticks": "outside"
             }
            },
            "type": "parcoords"
           }
          ],
          "pie": [
           {
            "automargin": true,
            "type": "pie"
           }
          ],
          "scatter": [
           {
            "fillpattern": {
             "fillmode": "overlay",
             "size": 10,
             "solidity": 0.2
            },
            "type": "scatter"
           }
          ],
          "scatter3d": [
           {
            "line": {
             "colorbar": {
              "outlinewidth": 1,
              "tickcolor": "rgb(36,36,36)",
              "ticks": "outside"
             }
            },
            "marker": {
             "colorbar": {
              "outlinewidth": 1,
              "tickcolor": "rgb(36,36,36)",
              "ticks": "outside"
             }
            },
            "type": "scatter3d"
           }
          ],
          "scattercarpet": [
           {
            "marker": {
             "colorbar": {
              "outlinewidth": 1,
              "tickcolor": "rgb(36,36,36)",
              "ticks": "outside"
             }
            },
            "type": "scattercarpet"
           }
          ],
          "scattergeo": [
           {
            "marker": {
             "colorbar": {
              "outlinewidth": 1,
              "tickcolor": "rgb(36,36,36)",
              "ticks": "outside"
             }
            },
            "type": "scattergeo"
           }
          ],
          "scattergl": [
           {
            "marker": {
             "colorbar": {
              "outlinewidth": 1,
              "tickcolor": "rgb(36,36,36)",
              "ticks": "outside"
             }
            },
            "type": "scattergl"
           }
          ],
          "scattermapbox": [
           {
            "marker": {
             "colorbar": {
              "outlinewidth": 1,
              "tickcolor": "rgb(36,36,36)",
              "ticks": "outside"
             }
            },
            "type": "scattermapbox"
           }
          ],
          "scatterpolar": [
           {
            "marker": {
             "colorbar": {
              "outlinewidth": 1,
              "tickcolor": "rgb(36,36,36)",
              "ticks": "outside"
             }
            },
            "type": "scatterpolar"
           }
          ],
          "scatterpolargl": [
           {
            "marker": {
             "colorbar": {
              "outlinewidth": 1,
              "tickcolor": "rgb(36,36,36)",
              "ticks": "outside"
             }
            },
            "type": "scatterpolargl"
           }
          ],
          "scatterternary": [
           {
            "marker": {
             "colorbar": {
              "outlinewidth": 1,
              "tickcolor": "rgb(36,36,36)",
              "ticks": "outside"
             }
            },
            "type": "scatterternary"
           }
          ],
          "surface": [
           {
            "colorbar": {
             "outlinewidth": 1,
             "tickcolor": "rgb(36,36,36)",
             "ticks": "outside"
            },
            "colorscale": [
             [
              0,
              "#440154"
             ],
             [
              0.1111111111111111,
              "#482878"
             ],
             [
              0.2222222222222222,
              "#3e4989"
             ],
             [
              0.3333333333333333,
              "#31688e"
             ],
             [
              0.4444444444444444,
              "#26828e"
             ],
             [
              0.5555555555555556,
              "#1f9e89"
             ],
             [
              0.6666666666666666,
              "#35b779"
             ],
             [
              0.7777777777777778,
              "#6ece58"
             ],
             [
              0.8888888888888888,
              "#b5de2b"
             ],
             [
              1,
              "#fde725"
             ]
            ],
            "type": "surface"
           }
          ],
          "table": [
           {
            "cells": {
             "fill": {
              "color": "rgb(237,237,237)"
             },
             "line": {
              "color": "white"
             }
            },
            "header": {
             "fill": {
              "color": "rgb(217,217,217)"
             },
             "line": {
              "color": "white"
             }
            },
            "type": "table"
           }
          ]
         },
         "layout": {
          "annotationdefaults": {
           "arrowhead": 0,
           "arrowwidth": 1
          },
          "autotypenumbers": "strict",
          "coloraxis": {
           "colorbar": {
            "outlinewidth": 1,
            "tickcolor": "rgb(36,36,36)",
            "ticks": "outside"
           }
          },
          "colorscale": {
           "diverging": [
            [
             0,
             "rgb(103,0,31)"
            ],
            [
             0.1,
             "rgb(178,24,43)"
            ],
            [
             0.2,
             "rgb(214,96,77)"
            ],
            [
             0.3,
             "rgb(244,165,130)"
            ],
            [
             0.4,
             "rgb(253,219,199)"
            ],
            [
             0.5,
             "rgb(247,247,247)"
            ],
            [
             0.6,
             "rgb(209,229,240)"
            ],
            [
             0.7,
             "rgb(146,197,222)"
            ],
            [
             0.8,
             "rgb(67,147,195)"
            ],
            [
             0.9,
             "rgb(33,102,172)"
            ],
            [
             1,
             "rgb(5,48,97)"
            ]
           ],
           "sequential": [
            [
             0,
             "#440154"
            ],
            [
             0.1111111111111111,
             "#482878"
            ],
            [
             0.2222222222222222,
             "#3e4989"
            ],
            [
             0.3333333333333333,
             "#31688e"
            ],
            [
             0.4444444444444444,
             "#26828e"
            ],
            [
             0.5555555555555556,
             "#1f9e89"
            ],
            [
             0.6666666666666666,
             "#35b779"
            ],
            [
             0.7777777777777778,
             "#6ece58"
            ],
            [
             0.8888888888888888,
             "#b5de2b"
            ],
            [
             1,
             "#fde725"
            ]
           ],
           "sequentialminus": [
            [
             0,
             "#440154"
            ],
            [
             0.1111111111111111,
             "#482878"
            ],
            [
             0.2222222222222222,
             "#3e4989"
            ],
            [
             0.3333333333333333,
             "#31688e"
            ],
            [
             0.4444444444444444,
             "#26828e"
            ],
            [
             0.5555555555555556,
             "#1f9e89"
            ],
            [
             0.6666666666666666,
             "#35b779"
            ],
            [
             0.7777777777777778,
             "#6ece58"
            ],
            [
             0.8888888888888888,
             "#b5de2b"
            ],
            [
             1,
             "#fde725"
            ]
           ]
          },
          "colorway": [
           "#1F77B4",
           "#FF7F0E",
           "#2CA02C",
           "#D62728",
           "#9467BD",
           "#8C564B",
           "#E377C2",
           "#7F7F7F",
           "#BCBD22",
           "#17BECF"
          ],
          "font": {
           "color": "rgb(36,36,36)"
          },
          "geo": {
           "bgcolor": "white",
           "lakecolor": "white",
           "landcolor": "white",
           "showlakes": true,
           "showland": true,
           "subunitcolor": "white"
          },
          "hoverlabel": {
           "align": "left"
          },
          "hovermode": "closest",
          "mapbox": {
           "style": "light"
          },
          "paper_bgcolor": "white",
          "plot_bgcolor": "white",
          "polar": {
           "angularaxis": {
            "gridcolor": "rgb(232,232,232)",
            "linecolor": "rgb(36,36,36)",
            "showgrid": false,
            "showline": true,
            "ticks": "outside"
           },
           "bgcolor": "white",
           "radialaxis": {
            "gridcolor": "rgb(232,232,232)",
            "linecolor": "rgb(36,36,36)",
            "showgrid": false,
            "showline": true,
            "ticks": "outside"
           }
          },
          "scene": {
           "xaxis": {
            "backgroundcolor": "white",
            "gridcolor": "rgb(232,232,232)",
            "gridwidth": 2,
            "linecolor": "rgb(36,36,36)",
            "showbackground": true,
            "showgrid": false,
            "showline": true,
            "ticks": "outside",
            "zeroline": false,
            "zerolinecolor": "rgb(36,36,36)"
           },
           "yaxis": {
            "backgroundcolor": "white",
            "gridcolor": "rgb(232,232,232)",
            "gridwidth": 2,
            "linecolor": "rgb(36,36,36)",
            "showbackground": true,
            "showgrid": false,
            "showline": true,
            "ticks": "outside",
            "zeroline": false,
            "zerolinecolor": "rgb(36,36,36)"
           },
           "zaxis": {
            "backgroundcolor": "white",
            "gridcolor": "rgb(232,232,232)",
            "gridwidth": 2,
            "linecolor": "rgb(36,36,36)",
            "showbackground": true,
            "showgrid": false,
            "showline": true,
            "ticks": "outside",
            "zeroline": false,
            "zerolinecolor": "rgb(36,36,36)"
           }
          },
          "shapedefaults": {
           "fillcolor": "black",
           "line": {
            "width": 0
           },
           "opacity": 0.3
          },
          "ternary": {
           "aaxis": {
            "gridcolor": "rgb(232,232,232)",
            "linecolor": "rgb(36,36,36)",
            "showgrid": false,
            "showline": true,
            "ticks": "outside"
           },
           "baxis": {
            "gridcolor": "rgb(232,232,232)",
            "linecolor": "rgb(36,36,36)",
            "showgrid": false,
            "showline": true,
            "ticks": "outside"
           },
           "bgcolor": "white",
           "caxis": {
            "gridcolor": "rgb(232,232,232)",
            "linecolor": "rgb(36,36,36)",
            "showgrid": false,
            "showline": true,
            "ticks": "outside"
           }
          },
          "title": {
           "x": 0.05
          },
          "xaxis": {
           "automargin": true,
           "gridcolor": "rgb(232,232,232)",
           "linecolor": "rgb(36,36,36)",
           "showgrid": false,
           "showline": true,
           "ticks": "outside",
           "title": {
            "standoff": 15
           },
           "zeroline": false,
           "zerolinecolor": "rgb(36,36,36)"
          },
          "yaxis": {
           "automargin": true,
           "gridcolor": "rgb(232,232,232)",
           "linecolor": "rgb(36,36,36)",
           "showgrid": false,
           "showline": true,
           "ticks": "outside",
           "title": {
            "standoff": 15
           },
           "zeroline": false,
           "zerolinecolor": "rgb(36,36,36)"
          }
         }
        },
        "width": 750,
        "xaxis": {
         "autorange": true,
         "range": [
          1990,
          2020
         ],
         "type": "linear"
        },
        "yaxis": {
         "autorange": true,
         "gridcolor": "Lightgrey",
         "gridwidth": 1,
         "range": [
          -4.748430419891232,
          79.04740051936581
         ],
         "showgrid": true,
         "title": {
          "text": "Annual Emissions (GtCO₂-equ)"
         },
         "type": "linear"
        }
       }
      },
      "image/png": "[encoded data removed]",
      "text/html": [
       "<div>                            <div id=\"eb2e8785-a9c9-446a-9132-16ac226279d0\" class=\"plotly-graph-div\" style=\"height:500px; width:750px;\"></div>            <script type=\"text/javascript\">                require([\"plotly\"], function(Plotly) {                    window.PLOTLYENV=window.PLOTLYENV || {};                                    if (document.getElementById(\"eb2e8785-a9c9-446a-9132-16ac226279d0\")) {                    Plotly.newPlot(                        \"eb2e8785-a9c9-446a-9132-16ac226279d0\",                        [{\"hovertemplate\":\"Inventory Energy %{x|%Y}: %{y:.0f} Gt yr\\u207b\\u00b9<extra></extra>\",\"line\":{\"color\":\"rgba(86, 119, 194, 1)\",\"width\":3.0},\"mode\":\"lines\",\"name\":\"Energy and Transport\",\"showlegend\":true,\"x\":[1990,1991,1992,1993,1994,1995,1996,1997,1998,1999,2000,2001,2002,2003,2004,2005,2006,2007,2008,2009,2010,2011,2012,2013,2014,2015,2016,2017,2018,2019,2020],\"y\":[45.179509785001066,45.73767047546182,45.157984524908144,42.969182987837655,34.62882831695147,35.67838566311227,33.80251175296846,31.302170409031415,28.685231414954515,25.666416988399593,23.569558821908434,22.111072007424664,21.03993672761122,19.149499783559076,18.622909728296634,16.52811978155463,15.511233662725946,14.818078074572435,14.055790591486307,13.676512356250626,13.479069883273578,12.991354700405434,13.07146622771198,11.746271007775007,11.208987363625953,10.74810078070984,9.553787584219041,9.466175305030944,9.482925330334258,9.211197527780653,8.510997666659668],\"type\":\"scatter\"},{\"hovertemplate\":\"Inventory Industrial Processes %{x|%Y}: %{y:.0f} Gt yr\\u207b\\u00b9<extra></extra>\",\"line\":{\"color\":\"rgba(99, 182, 137, 1)\",\"width\":3.0},\"mode\":\"lines\",\"name\":\"Industrial processes\",\"showlegend\":true,\"x\":[1990,1991,1992,1993,1994,1995,1996,1997,1998,1999,2000,2001,2002,2003,2004,2005,2006,2007,2008,2009,2010,2011,2012,2013,2014,2015,2016,2017,2018,2019,2020],\"y\":[22.037451497049318,22.17866733669317,18.31930364827804,14.936571052715243,14.92916787415706,13.528933669484873,13.467453041903864,13.590305732317498,13.77762071853384,5.307962388296196,5.461944604975088,4.8381501262348285,3.4191753038574024,3.235379542224887,4.033036998525555,3.4154549840298394,2.9230598176914038,3.316549552104786,3.1178403785314,1.8916053434230964,2.008423150834767,1.171027287579623,0.9622118576634369,0.9233282604234394,0.9386520685549985,0.8572219118581148,0.8758624628218388,0.8903005057219404,0.8506770945506433,0.9002301961190864,0.8115091604101266],\"type\":\"scatter\"},{\"hovertemplate\":\"Inventory Agriculture %{x|%Y}: %{y:.0f} Gt yr\\u207b\\u00b9<extra></extra>\",\"line\":{\"color\":\"rgba(238,92,66, 1)\",\"width\":3.0},\"mode\":\"lines\",\"name\":\"Agriculture\",\"showlegend\":true,\"x\":[1990,1991,1992,1993,1994,1995,1996,1997,1998,1999,2000,2001,2002,2003,2004,2005,2006,2007,2008,2009,2010,2011,2012,2013,2014,2015,2016,2017,2018,2019,2020],\"y\":[49.0202702563682,48.670440404141154,48.34485386518972,47.88754526703726,48.54982923962767,48.357725298159984,49.21303656294575,49.225648850766376,49.059766624433266,48.942183648117854,47.17570541756997,44.985981422384675,44.47015601847343,44.62171872936112,44.678887496376944,44.51487896460896,43.41274021331501,42.947714026465356,41.71142231125263,41.460199696417604,41.80673964122353,41.641736222235956,41.381406771010845,41.37818491594139,42.589002233328735,42.40246793649317,42.13575550818723,42.61410896140907,41.939501083246114,41.96584868873714,40.89727365202725],\"type\":\"scatter\"},{\"hovertemplate\":\"Inventory LULUCF %{x|%Y}: %{y:.0f} Gt yr\\u207b\\u00b9<extra></extra>\",\"line\":{\"color\":\"rgba(255,215,0, 1)\",\"width\":3.0},\"mode\":\"lines\",\"name\":\"Land use, Land-use change and forestry\",\"showlegend\":true,\"x\":[1990,1991,1992,1993,1994,1995,1996,1997,1998,1999,2000,2001,2002,2003,2004,2005,2006,2007,2008,2009,2010,2011,2012,2013,2014,2015,2016,2017,2018,2019,2020],\"y\":[7.498198498614329,7.48162587021146,7.451239474978252,7.430371151898379,7.406896687026319,7.4074661787235225,7.362762352209469,7.353611018360878,7.310822990617182,7.268152934912806,7.263501890322363,7.231118744356667,7.205786090469837,7.239862215582757,7.163498311282363,7.152616097490409,7.119548130359423,7.121245026129101,7.082901919818326,7.051527499804924,7.063206501031638,7.0798487790066185,7.037584263706519,7.037596152075782,6.98565885765614,7.009380786052774,7.006093240235636,6.988843012585205,7.053206912945878,7.105026708235744,7.05063888831752],\"type\":\"scatter\"},{\"hovertemplate\":\"Inventory Waste %{x|%Y}: %{y:.0f} Gt yr\\u207b\\u00b9<extra></extra>\",\"line\":{\"color\":\"rgba(142,229,238, 1)\",\"width\":3.0},\"mode\":\"lines\",\"name\":\"Waste\",\"showlegend\":true,\"x\":[1990,1991,1992,1993,1994,1995,1996,1997,1998,1999,2000,2001,2002,2003,2004,2005,2006,2007,2008,2009,2010,2011,2012,2013,2014,2015,2016,2017,2018,2019,2020],\"y\":[71.21864496583129,71.92923844092655,72.17132618118362,72.80658108553295,73.38519512737085,74.56160747325953,74.85760897240296,74.8260442668434,73.64163913720714,70.60241851905488,67.85268644901447,65.53639503444515,64.3220845107914,60.33058835628418,55.51373951176135,52.63213530294401,49.44456832682351,45.98147675105427,40.97579728467216,36.663401350357624,31.50853532692549,29.203212116304673,27.561770878679532,24.347287918563865,21.940413318908693,21.235966864506977,20.43141054451237,20.90428362181699,20.872257352916662,20.72833559614558,19.312643516266235],\"type\":\"scatter\"},{\"hoverinfo\":\"skip\",\"line\":{\"color\":\"rgba(86, 119, 194, 0.6)\",\"width\":0.1},\"mode\":\"lines\",\"showlegend\":false,\"x\":[1990,1991,1992,1993,1994,1995,1996,1997,1998,1999,2000,2001,2002,2003,2004,2005,2006,2007,2008,2009,2010,2011,2012,2013,2014,2015,2016,2017,2018,2019,2020],\"y\":[null,null,null,null,null,13.304215821514966,16.21893695152453,12.782405033444256,13.161635696517774,11.500553034515367,9.131579450613152,10.817768625386185,9.738094837375563,10.305466822735385,10.345962273137825,9.485049691507069,8.628698388753136,9.60276509855211,8.324461706636075,7.696390935357444,9.369909343274916,7.667757169087046,12.814942832387374,10.988791766524418,11.040490559898258,10.211223106193753,9.460206487906227,8.999410862012423,9.370647525660873,8.59992061728603,7.946916091985138,null],\"type\":\"scatter\"},{\"fill\":\"tonexty\",\"hoverinfo\":\"skip\",\"line\":{\"color\":\"rgba(86, 119, 194, 0.6)\",\"width\":0.1},\"mode\":\"lines\",\"showlegend\":false,\"x\":[1990,1991,1992,1993,1994,1995,1996,1997,1998,1999,2000,2001,2002,2003,2004,2005,2006,2007,2008,2009,2010,2011,2012,2013,2014,2015,2016,2017,2018,2019,2020],\"y\":[null,null,null,null,null,17.78378358025732,20.737254260080615,17.16057667349371,17.598833334220608,16.30255365224817,12.857531481887442,14.69005009163473,13.684931746426301,14.220315146281793,13.979036661319903,12.690765266096584,12.119656782495404,12.954096429569644,11.603255896207564,11.080271270027277,12.474834718482676,11.046837148241558,14.806100466794668,12.625765516825066,12.28114944654236,11.39846577369294,10.641916066537455,10.069690397880374,10.552363328837506,9.627751399340882,8.95312863420384,null],\"type\":\"scatter\"},{\"hovertemplate\":\"InTEM %{x|%Y}: %{y:.0f} Gt yr\\u207b\\u00b9<extra></extra>\",\"line\":{\"color\":\"rgba(86, 119, 194, 1)\",\"dash\":\"dot\",\"width\":0.1},\"mode\":\"lines\",\"name\":\"InTEM\",\"showlegend\":false,\"x\":[1990,1991,1992,1993,1994,1995,1996,1997,1998,1999,2000,2001,2002,2003,2004,2005,2006,2007,2008,2009,2010,2011,2012,2013,2014,2015,2016,2017,2018,2019,2020],\"y\":[null,null,null,null,null,15.543999700886143,18.478095605802572,14.971490853468984,15.38023451536919,13.901553343381769,10.994555466250297,12.753909358510457,11.711513291900932,12.262890984508589,12.162499467228864,11.087907478801826,10.37417758562427,11.278430764060877,9.96385880142182,9.38833110269236,10.922372030878796,9.357297158664302,13.81052164959102,11.807278641674742,11.660820003220309,10.804844439943347,10.05106127722184,9.534550629946398,9.96150542724919,9.113836008313456,8.450022363094488,null],\"type\":\"scatter\"},{\"hovertemplate\":\"InTEM Energy %{x|%Y}: %{y:.0f} Gt yr\\u207b\\u00b9<extra></extra>\",\"line\":{\"color\":\"rgba(86, 119, 194, 1)\",\"dash\":\"dot\",\"width\":5},\"mode\":\"lines\",\"name\":\"Energy\",\"showlegend\":false,\"x\":[1990,1991,1992,1993,1994,1995,1996,1997,1998,1999,2000,2001,2002,2003,2004,2005,2006,2007,2008,2009,2010,2011,2012,2013,2014,2015,2016,2017,2018,2019,2020],\"y\":[null,null,null,null,null,15.543999700886143,18.478095605802572,14.971490853468984,15.38023451536919,13.901553343381769,10.994555466250297,12.753909358510457,11.711513291900932,12.262890984508589,12.162499467228864,11.087907478801826,10.37417758562427,11.278430764060877,9.96385880142182,9.38833110269236,10.922372030878796,9.357297158664302,13.81052164959102,11.807278641674742,11.660820003220309,10.804844439943347,10.05106127722184,9.534550629946398,9.96150542724919,9.113836008313456,8.450022363094488,null],\"type\":\"scatter\"},{\"hoverinfo\":\"skip\",\"line\":{\"color\":\"rgba(99, 182, 137, 0.6)\",\"width\":0.1},\"mode\":\"lines\",\"showlegend\":false,\"x\":[1990,1991,1992,1993,1994,1995,1996,1997,1998,1999,2000,2001,2002,2003,2004,2005,2006,2007,2008,2009,2010,2011,2012,2013,2014,2015,2016,2017,2018,2019,2020],\"y\":[null,null,null,null,null,6.9635291506032395,10.670552627771132,8.364943156289922,10.574618055663917,4.127689455093126,3.3290316811067813,3.6076150290682856,2.448756474639627,2.652758857101513,3.7924024827899476,2.9019650500642884,2.047228823695405,3.2690257039837536,2.077314230563557,1.3209729495500266,1.5012815407424944,0.8001436633538556,1.1331006909136734,0.9947931087812846,1.0172459567876502,0.8794175085909679,0.9906226844299775,0.9850026701992994,0.9672649722848082,0.9345693264437602,0.8603428411430973,null],\"type\":\"scatter\"},{\"fill\":\"tonexty\",\"hoverinfo\":\"skip\",\"line\":{\"color\":\"rgba(99, 182, 137, 0.6)\",\"width\":0.1},\"mode\":\"lines\",\"showlegend\":false,\"x\":[1990,1991,1992,1993,1994,1995,1996,1997,1998,1999,2000,2001,2002,2003,2004,2005,2006,2007,2008,2009,2010,2011,2012,2013,2014,2015,2016,2017,2018,2019,2020],\"y\":[null,null,null,null,null,10.791939785868525,14.505205273797442,12.6996459567848,14.845656952703854,6.343734434981055,5.170014910938197,5.582427517054609,3.9347807301013265,4.043344753714579,5.48228290617325,4.282070375814897,3.43974249610665,4.754320855362797,3.450792940114443,2.216835398256026,2.386978269588398,1.4067526532746792,1.402704171904593,1.2119435966251941,1.1909613437956594,1.0326718267904804,1.156565989841149,1.1433162681279434,1.1329774102007462,1.0838318203396473,1.0074717701101261,null],\"type\":\"scatter\"},{\"hovertemplate\":\"InTEM %{x|%Y}: %{y:.0f} Gt yr\\u207b\\u00b9<extra></extra>\",\"line\":{\"color\":\"rgba(99, 182, 137, 1)\",\"dash\":\"dot\",\"width\":0.1},\"mode\":\"lines\",\"name\":\"InTEM\",\"showlegend\":false,\"x\":[1990,1991,1992,1993,1994,1995,1996,1997,1998,1999,2000,2001,2002,2003,2004,2005,2006,2007,2008,2009,2010,2011,2012,2013,2014,2015,2016,2017,2018,2019,2020],\"y\":[null,null,null,null,null,8.877734468235882,12.587878950784287,10.53229455653736,12.710137504183885,5.235711945037091,4.249523296022489,4.595021273061447,3.1917686023704768,3.348051805408046,4.637342694481599,3.5920177129395925,2.7434856599010273,4.011673279673276,2.764053585339,1.7689041739030262,1.9441299051654461,1.1034481583142675,1.2679024314091332,1.1033683527032394,1.1041036502916548,0.9560446676907242,1.0735943371355632,1.0641594691636214,1.0501211912427773,1.0092005733917038,0.9339073056266117,null],\"type\":\"scatter\"},{\"hovertemplate\":\"InTEM Industrial Processes %{x|%Y}: %{y:.0f} Gt yr\\u207b\\u00b9<extra></extra>\",\"line\":{\"color\":\"rgba(99, 182, 137, 1)\",\"dash\":\"dot\",\"width\":5},\"mode\":\"lines\",\"name\":\"Industrial processes\",\"showlegend\":false,\"x\":[1990,1991,1992,1993,1994,1995,1996,1997,1998,1999,2000,2001,2002,2003,2004,2005,2006,2007,2008,2009,2010,2011,2012,2013,2014,2015,2016,2017,2018,2019,2020],\"y\":[null,null,null,null,null,8.877734468235882,12.587878950784287,10.53229455653736,12.710137504183885,5.235711945037091,4.249523296022489,4.595021273061447,3.1917686023704768,3.348051805408046,4.637342694481599,3.5920177129395925,2.7434856599010273,4.011673279673276,2.764053585339,1.7689041739030262,1.9441299051654461,1.1034481583142675,1.2679024314091332,1.1033683527032394,1.1041036502916548,0.9560446676907242,1.0735943371355632,1.0641594691636214,1.0501211912427773,1.0092005733917038,0.9339073056266117,null],\"type\":\"scatter\"},{\"hoverinfo\":\"skip\",\"line\":{\"color\":\"rgba(238,92,66, 0.6)\",\"width\":0.1},\"mode\":\"lines\",\"showlegend\":false,\"x\":[1990,1991,1992,1993,1994,1995,1996,1997,1998,1999,2000,2001,2002,2003,2004,2005,2006,2007,2008,2009,2010,2011,2012,2013,2014,2015,2016,2017,2018,2019,2020],\"y\":[null,null,null,null,null,19.85895519044942,27.695152704968116,22.818557139326455,26.325865696027495,25.97631846483191,20.749388295452583,24.685577226516404,23.242726327425324,26.84916474864813,28.52924162441073,27.96051137790875,25.32205010738656,30.476413165594074,25.296053897651856,24.5340253885287,29.51787828633308,25.42067599275501,42.306965792119065,39.889669391605956,42.778864694449325,40.814011320626975,42.60394533494093,41.51529050613433,42.356480692632466,39.82184615027494,38.90283453802618,null],\"type\":\"scatter\"},{\"fill\":\"tonexty\",\"hoverinfo\":\"skip\",\"line\":{\"color\":\"rgba(238,92,66, 0.6)\",\"width\":0.1},\"mode\":\"lines\",\"showlegend\":false,\"x\":[1990,1991,1992,1993,1994,1995,1996,1997,1998,1999,2000,2001,2002,2003,2004,2005,2006,2007,2008,2009,2010,2011,2012,2013,2014,2015,2016,2017,2018,2019,2020],\"y\":[null,null,null,null,null,27.958160626394573,36.24662592970531,32.05255198691762,35.83455777479374,37.961941722469085,30.19943013442053,34.996351902546536,34.178670169778265,38.239528057420976,39.403259318133124,38.434108188692356,37.137040098054015,41.925946748559916,36.68555379372357,36.798110777143606,40.983526237471146,38.58773427330803,49.73707653374972,46.45296660259168,48.11797985366317,45.97486710942346,48.227170925210686,46.750364937531636,48.01340429397553,44.83713690873902,44.09512222016773,null],\"type\":\"scatter\"},{\"hovertemplate\":\"InTEM %{x|%Y}: %{y:.0f} Gt yr\\u207b\\u00b9<extra></extra>\",\"line\":{\"color\":\"rgba(238,92,66, 1)\",\"dash\":\"dot\",\"width\":0.1},\"mode\":\"lines\",\"name\":\"InTEM\",\"showlegend\":false,\"x\":[1990,1991,1992,1993,1994,1995,1996,1997,1998,1999,2000,2001,2002,2003,2004,2005,2006,2007,2008,2009,2010,2011,2012,2013,2014,2015,2016,2017,2018,2019,2020],\"y\":[null,null,null,null,null,23.908557908421997,31.970889317336713,27.43555456312204,31.080211735410618,31.969130093650495,25.474409214936557,29.84096456453147,28.710698248601794,32.54434640303455,33.96625047127193,33.197309783300554,31.229545102720287,36.201179957076995,30.99080384568771,30.666068082836155,35.25070226190211,32.00420513303152,46.022021162934394,43.17131799709882,45.44842227405625,43.394439215025216,45.41555813007581,44.13282772183298,45.184942493304,42.32949152950698,41.498978379096954,null],\"type\":\"scatter\"},{\"hovertemplate\":\"InTEM Agriculture %{x|%Y}: %{y:.0f} Gt yr\\u207b\\u00b9<extra></extra>\",\"line\":{\"color\":\"rgba(238,92,66, 1)\",\"dash\":\"dot\",\"width\":5},\"mode\":\"lines\",\"name\":\"Agriculture\",\"showlegend\":false,\"x\":[1990,1991,1992,1993,1994,1995,1996,1997,1998,1999,2000,2001,2002,2003,2004,2005,2006,2007,2008,2009,2010,2011,2012,2013,2014,2015,2016,2017,2018,2019,2020],\"y\":[null,null,null,null,null,23.908557908421997,31.970889317336713,27.43555456312204,31.080211735410618,31.969130093650495,25.474409214936557,29.84096456453147,28.710698248601794,32.54434640303455,33.96625047127193,33.197309783300554,31.229545102720287,36.201179957076995,30.99080384568771,30.666068082836155,35.25070226190211,32.00420513303152,46.022021162934394,43.17131799709882,45.44842227405625,43.394439215025216,45.41555813007581,44.13282772183298,45.184942493304,42.32949152950698,41.498978379096954,null],\"type\":\"scatter\"},{\"hoverinfo\":\"skip\",\"line\":{\"color\":\"rgba(255,215,0, 0.6)\",\"width\":0.1},\"mode\":\"lines\",\"showlegend\":false,\"x\":[1990,1991,1992,1993,1994,1995,1996,1997,1998,1999,2000,2001,2002,2003,2004,2005,2006,2007,2008,2009,2010,2011,2012,2013,2014,2015,2016,2017,2018,2019,2020],\"y\":[null,null,null,null,null,2.9887749543466264,4.021350016635645,3.3178619378454317,3.7916428241475484,3.700001622144441,3.088655074336515,3.8301092550423297,3.61348765626948,4.188208934496127,4.352533321761594,4.330261559298305,4.066288330586895,4.853632727489508,4.249011448611217,4.076872192669531,4.948281180969188,4.247037138984497,7.024794102202767,6.647667986865696,6.917757073872896,6.676820847560261,6.95117861346833,6.6545702373983495,6.973986208180818,6.632685898238833,6.583623639195582,null],\"type\":\"scatter\"},{\"fill\":\"tonexty\",\"hoverinfo\":\"skip\",\"line\":{\"color\":\"rgba(255,215,0, 0.6)\",\"width\":0.1},\"mode\":\"lines\",\"showlegend\":false,\"x\":[1990,1991,1992,1993,1994,1995,1996,1997,1998,1999,2000,2001,2002,2003,2004,2005,2006,2007,2008,2009,2010,2011,2012,2013,2014,2015,2016,2017,2018,2019,2020],\"y\":[null,null,null,null,null,4.170327116010183,5.2417019291076885,4.6186997097341,5.142502509508088,5.3697391745678065,4.458165692458632,5.36215555937467,5.23663550652499,5.901867865273496,5.967011868965121,5.88940839239424,5.853120231359849,6.620969719082364,6.053000803616271,6.0028351201339545,6.729528080591329,6.277995946794615,8.178065584683385,7.671592168726977,7.718908766952718,7.4669045738718705,7.8241675609759325,7.449053852256268,7.854944250568952,7.425066874513801,7.41732418367529,null],\"type\":\"scatter\"},{\"hovertemplate\":\"InTEM %{x|%Y}: %{y:.0f} Gt yr\\u207b\\u00b9<extra></extra>\",\"line\":{\"color\":\"rgba(255,215,0, 1)\",\"dash\":\"dot\",\"width\":0.1},\"mode\":\"lines\",\"name\":\"InTEM\",\"showlegend\":false,\"x\":[1990,1991,1992,1993,1994,1995,1996,1997,1998,1999,2000,2001,2002,2003,2004,2005,2006,2007,2008,2009,2010,2011,2012,2013,2014,2015,2016,2017,2018,2019,2020],\"y\":[null,null,null,null,null,3.579551035178405,4.631525972871667,3.968280823789766,4.467072666827818,4.534870398356124,3.7734103833975734,4.5961324072085,4.425061581397235,5.045038399884811,5.159772595363357,5.109834975846272,4.959704280973372,5.737301223285936,5.151006126113744,5.039853656401743,5.838904630780259,5.262516542889556,7.601429843443076,7.159630077796336,7.318332920412807,7.071862710716066,7.387673087222131,7.051812044827309,7.414465229374885,7.028876386376317,7.000473911435436,null],\"type\":\"scatter\"},{\"hovertemplate\":\"InTEM LULUCF %{x|%Y}: %{y:.0f} Gt yr\\u207b\\u00b9<extra></extra>\",\"line\":{\"color\":\"rgba(255,215,0, 1)\",\"dash\":\"dot\",\"width\":5},\"mode\":\"lines\",\"name\":\"Land use, Land-use change and forestry\",\"showlegend\":false,\"x\":[1990,1991,1992,1993,1994,1995,1996,1997,1998,1999,2000,2001,2002,2003,2004,2005,2006,2007,2008,2009,2010,2011,2012,2013,2014,2015,2016,2017,2018,2019,2020],\"y\":[null,null,null,null,null,3.579551035178405,4.631525972871667,3.968280823789766,4.467072666827818,4.534870398356124,3.7734103833975734,4.5961324072085,4.425061581397235,5.045038399884811,5.159772595363357,5.109834975846272,4.959704280973372,5.737301223285936,5.151006126113744,5.039853656401743,5.838904630780259,5.262516542889556,7.601429843443076,7.159630077796336,7.318332920412807,7.071862710716066,7.387673087222131,7.051812044827309,7.414465229374885,7.028876386376317,7.000473911435436,null],\"type\":\"scatter\"},{\"hoverinfo\":\"skip\",\"line\":{\"color\":\"rgba(142,229,238, 0.6)\",\"width\":0.1},\"mode\":\"lines\",\"showlegend\":false,\"x\":[1990,1991,1992,1993,1994,1995,1996,1997,1998,1999,2000,2001,2002,2003,2004,2005,2006,2007,2008,2009,2010,2011,2012,2013,2014,2015,2016,2017,2018,2019,2020],\"y\":[null,null,null,null,null,26.83752488308575,33.74800769910057,29.04323273309393,31.31823772764327,28.75943742341516,24.247345498490976,29.590929863986794,27.25193470429,29.615400637018837,27.380860297899897,27.549212321221585,26.128734349578014,26.857163304380546,23.746158716537295,19.843738533894303,21.645649648680326,16.793386035819594,26.011196582377128,22.04807774622264,21.173641714991877,19.847527217028045,19.59104687925455,19.16272572425561,19.945620601241032,18.85597800775644,17.502282889650004,null],\"type\":\"scatter\"},{\"fill\":\"tonexty\",\"hoverinfo\":\"skip\",\"line\":{\"color\":\"rgba(142,229,238, 0.6)\",\"width\":0.1},\"mode\":\"lines\",\"showlegend\":false,\"x\":[1990,1991,1992,1993,1994,1995,1996,1997,1998,1999,2000,2001,2002,2003,2004,2005,2006,2007,2008,2009,2010,2011,2012,2013,2014,2015,2016,2017,2018,2019,2020],\"y\":[null,null,null,null,null,35.126788891469396,42.70521260730894,38.20152567306975,41.46644942877372,39.95803101573389,33.3288577802952,38.821014929389456,36.86198184716911,39.66794417730915,36.19740924540859,35.734647777001925,34.85544039198409,35.32566624742527,31.844396566338155,27.599947434439137,27.86813269386645,23.161679978381123,29.55505324286764,24.94873211523108,23.273000589046095,21.898090716221247,21.819179457434792,21.23057454420379,22.22631071641726,20.911212997066663,19.52095319184302,null],\"type\":\"scatter\"},{\"hovertemplate\":\"InTEM %{x|%Y}: %{y:.0f} Gt yr\\u207b\\u00b9<extra></extra>\",\"line\":{\"color\":\"rgba(142,229,238, 1)\",\"dash\":\"dot\",\"width\":0.1},\"mode\":\"lines\",\"name\":\"InTEM\",\"showlegend\":false,\"x\":[1990,1991,1992,1993,1994,1995,1996,1997,1998,1999,2000,2001,2002,2003,2004,2005,2006,2007,2008,2009,2010,2011,2012,2013,2014,2015,2016,2017,2018,2019,2020],\"y\":[null,null,null,null,null,30.982156887277572,38.22661015320475,33.62237920308184,36.3923435782085,34.35873421957452,28.788101639393087,34.205972396688125,32.056958275729556,34.641672407163995,31.789134771654243,31.641930049111753,30.492087370781054,31.09141477590291,27.795277641437725,23.72184298416672,24.756891171273388,19.97753300710036,27.783124912622384,23.49840493072686,22.223321152018986,20.872808966624646,20.70511316834467,20.1966501342297,21.085965658829146,19.883595502411552,18.511618040746512,null],\"type\":\"scatter\"},{\"hovertemplate\":\"InTEM Waste %{x|%Y}: %{y:.0f} Gt yr\\u207b\\u00b9<extra></extra>\",\"line\":{\"color\":\"rgba(142,229,238, 1)\",\"dash\":\"dot\",\"width\":5},\"mode\":\"lines\",\"name\":\"Waste\",\"showlegend\":false,\"x\":[1990,1991,1992,1993,1994,1995,1996,1997,1998,1999,2000,2001,2002,2003,2004,2005,2006,2007,2008,2009,2010,2011,2012,2013,2014,2015,2016,2017,2018,2019,2020],\"y\":[null,null,null,null,null,30.982156887277572,38.22661015320475,33.62237920308184,36.3923435782085,34.35873421957452,28.788101639393087,34.205972396688125,32.056958275729556,34.641672407163995,31.789134771654243,31.641930049111753,30.492087370781054,31.09141477590291,27.795277641437725,23.72184298416672,24.756891171273388,19.97753300710036,27.783124912622384,23.49840493072686,22.223321152018986,20.872808966624646,20.70511316834467,20.1966501342297,21.085965658829146,19.883595502411552,18.511618040746512,null],\"type\":\"scatter\"},{\"hovertemplate\":\"Inventory Product uses as substitutes for ODS %{x|%Y}: %{y:.0f} Gt yr\\u207b\\u00b9<extra></extra>\",\"line\":{\"color\":\"rgba(169,169,169, 1)\",\"width\":3.0},\"mode\":\"lines\",\"name\":\"Product uses as substitutes for ODS\",\"showlegend\":true,\"x\":[1990,1991,1992,1993,1994,1995,1996,1997,1998,1999,2000,2001,2002,2003,2004,2005,2006,2007,2008,2009,2010,2011,2012,2013,2014,2015,2016,2017,2018,2019,2020],\"y\":[0.008450338357177248,0.024929920744964983,0.04944311208042849,0.22978140364743735,0.5259514233011268,0.8858301097357428,1.373354530445083,1.9578844897062475,2.736285763871303,3.6205775526217927,4.4783826241457545,5.438523706640146,6.240164542901926,7.099106071313295,7.876265795182239,8.652746418266746,9.58271889230898,10.277921880618022,10.762568030896826,11.345781154835063,11.955582073776881,12.611340467530578,13.295952361500008,13.768369389872872,13.994163440297209,14.021555235000248,14.047364009002838,13.968355298764894,13.645546523790248,13.006261497527502,12.182915813377317],\"type\":\"scatter\"},{\"hoverinfo\":\"skip\",\"line\":{\"color\":\"rgba(169,169,169, 0.6)\",\"width\":0.1},\"mode\":\"lines\",\"showlegend\":false,\"x\":[1990,1991,1992,1993,1994,1995,1996,1997,1998,1999,2000,2001,2002,2003,2004,2005,2006,2007,2008,2009,2010,2011,2012,2013,2014,2015,2016,2017,2018,2019,2020],\"y\":[null,null,null,null,null,null,null,null,null,null,null,null,null,null,null,null,null,null,null,null,null,7.3893631111967135,8.041977681426454,6.1057938042336914,5.34198041171606,6.661016053540863,5.677698183340553,5.107291111926181,6.201318298433565,4.255665758200729,3.5573069529737005,null],\"type\":\"scatter\"},{\"fill\":\"tonexty\",\"hoverinfo\":\"skip\",\"line\":{\"color\":\"rgba(169,169,169, 0.6)\",\"width\":0.1},\"mode\":\"lines\",\"showlegend\":false,\"x\":[1990,1991,1992,1993,1994,1995,1996,1997,1998,1999,2000,2001,2002,2003,2004,2005,2006,2007,2008,2009,2010,2011,2012,2013,2014,2015,2016,2017,2018,2019,2020],\"y\":[null,null,null,null,null,null,null,null,null,null,null,null,null,null,null,null,null,null,null,null,null,15.345653512572733,16.67626074810176,19.14786623346979,16.248478531923986,16.902755572039712,17.879753051829216,18.829625984936786,17.88940192929111,12.153692602362833,10.912394818038294,null],\"type\":\"scatter\"},{\"hovertemplate\":\"InTEM %{x|%Y}: %{y:.0f} Gt yr\\u207b\\u00b9<extra></extra>\",\"line\":{\"color\":\"rgba(169,169,169, 1)\",\"dash\":\"dot\",\"width\":0.1},\"mode\":\"lines\",\"name\":\"InTEM\",\"showlegend\":false,\"x\":[1990,1991,1992,1993,1994,1995,1996,1997,1998,1999,2000,2001,2002,2003,2004,2005,2006,2007,2008,2009,2010,2011,2012,2013,2014,2015,2016,2017,2018,2019,2020],\"y\":[null,null,null,null,null,null,null,null,null,null,null,null,null,null,null,null,null,null,null,null,null,11.367508311884723,12.359119214764108,12.626830018851741,10.795229471820022,11.781885812790287,11.778725617584884,11.968458548431483,12.045360113862337,8.204679180281781,7.234850885505997,null],\"type\":\"scatter\"},{\"hovertemplate\":\"InTEM F Gases %{x|%Y}: %{y:.0f} Gt yr\\u207b\\u00b9<extra></extra>\",\"line\":{\"color\":\"rgba(169,169,169, 1)\",\"dash\":\"dot\",\"width\":5},\"mode\":\"lines\",\"name\":\"F Gases\",\"showlegend\":false,\"x\":[1990,1991,1992,1993,1994,1995,1996,1997,1998,1999,2000,2001,2002,2003,2004,2005,2006,2007,2008,2009,2010,2011,2012,2013,2014,2015,2016,2017,2018,2019,2020],\"y\":[null,null,null,null,null,null,null,null,null,null,null,null,null,null,null,null,null,null,null,null,null,11.367508311884723,12.359119214764108,12.626830018851741,10.795229471820022,11.781885812790287,11.778725617584884,11.968458548431483,12.045360113862337,8.204679180281781,7.234850885505997,null],\"type\":\"scatter\"},{\"line\":{\"color\":\"black\",\"dash\":\"dot\",\"width\":4},\"marker\":{\"opacity\":0.0,\"size\":0},\"name\":\"InTEM\",\"showlegend\":true,\"x\":[\"1900-01-01T00:00:00\",\"1900-01-02T00:00:00\"],\"y\":[0.0,0.0],\"type\":\"scatter\"}],                        {\"template\":{\"data\":{\"barpolar\":[{\"marker\":{\"line\":{\"color\":\"white\",\"width\":0.5},\"pattern\":{\"fillmode\":\"overlay\",\"size\":10,\"solidity\":0.2}},\"type\":\"barpolar\"}],\"bar\":[{\"error_x\":{\"color\":\"rgb(36,36,36)\"},\"error_y\":{\"color\":\"rgb(36,36,36)\"},\"marker\":{\"line\":{\"color\":\"white\",\"width\":0.5},\"pattern\":{\"fillmode\":\"overlay\",\"size\":10,\"solidity\":0.2}},\"type\":\"bar\"}],\"carpet\":[{\"aaxis\":{\"endlinecolor\":\"rgb(36,36,36)\",\"gridcolor\":\"white\",\"linecolor\":\"white\",\"minorgridcolor\":\"white\",\"startlinecolor\":\"rgb(36,36,36)\"},\"baxis\":{\"endlinecolor\":\"rgb(36,36,36)\",\"gridcolor\":\"white\",\"linecolor\":\"white\",\"minorgridcolor\":\"white\",\"startlinecolor\":\"rgb(36,36,36)\"},\"type\":\"carpet\"}],\"choropleth\":[{\"colorbar\":{\"outlinewidth\":1,\"tickcolor\":\"rgb(36,36,36)\",\"ticks\":\"outside\"},\"type\":\"choropleth\"}],\"contourcarpet\":[{\"colorbar\":{\"outlinewidth\":1,\"tickcolor\":\"rgb(36,36,36)\",\"ticks\":\"outside\"},\"type\":\"contourcarpet\"}],\"contour\":[{\"colorbar\":{\"outlinewidth\":1,\"tickcolor\":\"rgb(36,36,36)\",\"ticks\":\"outside\"},\"colorscale\":[[0.0,\"#440154\"],[0.1111111111111111,\"#482878\"],[0.2222222222222222,\"#3e4989\"],[0.3333333333333333,\"#31688e\"],[0.4444444444444444,\"#26828e\"],[0.5555555555555556,\"#1f9e89\"],[0.6666666666666666,\"#35b779\"],[0.7777777777777778,\"#6ece58\"],[0.8888888888888888,\"#b5de2b\"],[1.0,\"#fde725\"]],\"type\":\"contour\"}],\"heatmapgl\":[{\"colorbar\":{\"outlinewidth\":1,\"tickcolor\":\"rgb(36,36,36)\",\"ticks\":\"outside\"},\"colorscale\":[[0.0,\"#440154\"],[0.1111111111111111,\"#482878\"],[0.2222222222222222,\"#3e4989\"],[0.3333333333333333,\"#31688e\"],[0.4444444444444444,\"#26828e\"],[0.5555555555555556,\"#1f9e89\"],[0.6666666666666666,\"#35b779\"],[0.7777777777777778,\"#6ece58\"],[0.8888888888888888,\"#b5de2b\"],[1.0,\"#fde725\"]],\"type\":\"heatmapgl\"}],\"heatmap\":[{\"colorbar\":{\"outlinewidth\":1,\"tickcolor\":\"rgb(36,36,36)\",\"ticks\":\"outside\"},\"colorscale\":[[0.0,\"#440154\"],[0.1111111111111111,\"#482878\"],[0.2222222222222222,\"#3e4989\"],[0.3333333333333333,\"#31688e\"],[0.4444444444444444,\"#26828e\"],[0.5555555555555556,\"#1f9e89\"],[0.6666666666666666,\"#35b779\"],[0.7777777777777778,\"#6ece58\"],[0.8888888888888888,\"#b5de2b\"],[1.0,\"#fde725\"]],\"type\":\"heatmap\"}],\"histogram2dcontour\":[{\"colorbar\":{\"outlinewidth\":1,\"tickcolor\":\"rgb(36,36,36)\",\"ticks\":\"outside\"},\"colorscale\":[[0.0,\"#440154\"],[0.1111111111111111,\"#482878\"],[0.2222222222222222,\"#3e4989\"],[0.3333333333333333,\"#31688e\"],[0.4444444444444444,\"#26828e\"],[0.5555555555555556,\"#1f9e89\"],[0.6666666666666666,\"#35b779\"],[0.7777777777777778,\"#6ece58\"],[0.8888888888888888,\"#b5de2b\"],[1.0,\"#fde725\"]],\"type\":\"histogram2dcontour\"}],\"histogram2d\":[{\"colorbar\":{\"outlinewidth\":1,\"tickcolor\":\"rgb(36,36,36)\",\"ticks\":\"outside\"},\"colorscale\":[[0.0,\"#440154\"],[0.1111111111111111,\"#482878\"],[0.2222222222222222,\"#3e4989\"],[0.3333333333333333,\"#31688e\"],[0.4444444444444444,\"#26828e\"],[0.5555555555555556,\"#1f9e89\"],[0.6666666666666666,\"#35b779\"],[0.7777777777777778,\"#6ece58\"],[0.8888888888888888,\"#b5de2b\"],[1.0,\"#fde725\"]],\"type\":\"histogram2d\"}],\"histogram\":[{\"marker\":{\"line\":{\"color\":\"white\",\"width\":0.6}},\"type\":\"histogram\"}],\"mesh3d\":[{\"colorbar\":{\"outlinewidth\":1,\"tickcolor\":\"rgb(36,36,36)\",\"ticks\":\"outside\"},\"type\":\"mesh3d\"}],\"parcoords\":[{\"line\":{\"colorbar\":{\"outlinewidth\":1,\"tickcolor\":\"rgb(36,36,36)\",\"ticks\":\"outside\"}},\"type\":\"parcoords\"}],\"pie\":[{\"automargin\":true,\"type\":\"pie\"}],\"scatter3d\":[{\"line\":{\"colorbar\":{\"outlinewidth\":1,\"tickcolor\":\"rgb(36,36,36)\",\"ticks\":\"outside\"}},\"marker\":{\"colorbar\":{\"outlinewidth\":1,\"tickcolor\":\"rgb(36,36,36)\",\"ticks\":\"outside\"}},\"type\":\"scatter3d\"}],\"scattercarpet\":[{\"marker\":{\"colorbar\":{\"outlinewidth\":1,\"tickcolor\":\"rgb(36,36,36)\",\"ticks\":\"outside\"}},\"type\":\"scattercarpet\"}],\"scattergeo\":[{\"marker\":{\"colorbar\":{\"outlinewidth\":1,\"tickcolor\":\"rgb(36,36,36)\",\"ticks\":\"outside\"}},\"type\":\"scattergeo\"}],\"scattergl\":[{\"marker\":{\"colorbar\":{\"outlinewidth\":1,\"tickcolor\":\"rgb(36,36,36)\",\"ticks\":\"outside\"}},\"type\":\"scattergl\"}],\"scattermapbox\":[{\"marker\":{\"colorbar\":{\"outlinewidth\":1,\"tickcolor\":\"rgb(36,36,36)\",\"ticks\":\"outside\"}},\"type\":\"scattermapbox\"}],\"scatterpolargl\":[{\"marker\":{\"colorbar\":{\"outlinewidth\":1,\"tickcolor\":\"rgb(36,36,36)\",\"ticks\":\"outside\"}},\"type\":\"scatterpolargl\"}],\"scatterpolar\":[{\"marker\":{\"colorbar\":{\"outlinewidth\":1,\"tickcolor\":\"rgb(36,36,36)\",\"ticks\":\"outside\"}},\"type\":\"scatterpolar\"}],\"scatter\":[{\"fillpattern\":{\"fillmode\":\"overlay\",\"size\":10,\"solidity\":0.2},\"type\":\"scatter\"}],\"scatterternary\":[{\"marker\":{\"colorbar\":{\"outlinewidth\":1,\"tickcolor\":\"rgb(36,36,36)\",\"ticks\":\"outside\"}},\"type\":\"scatterternary\"}],\"surface\":[{\"colorbar\":{\"outlinewidth\":1,\"tickcolor\":\"rgb(36,36,36)\",\"ticks\":\"outside\"},\"colorscale\":[[0.0,\"#440154\"],[0.1111111111111111,\"#482878\"],[0.2222222222222222,\"#3e4989\"],[0.3333333333333333,\"#31688e\"],[0.4444444444444444,\"#26828e\"],[0.5555555555555556,\"#1f9e89\"],[0.6666666666666666,\"#35b779\"],[0.7777777777777778,\"#6ece58\"],[0.8888888888888888,\"#b5de2b\"],[1.0,\"#fde725\"]],\"type\":\"surface\"}],\"table\":[{\"cells\":{\"fill\":{\"color\":\"rgb(237,237,237)\"},\"line\":{\"color\":\"white\"}},\"header\":{\"fill\":{\"color\":\"rgb(217,217,217)\"},\"line\":{\"color\":\"white\"}},\"type\":\"table\"}]},\"layout\":{\"annotationdefaults\":{\"arrowhead\":0,\"arrowwidth\":1},\"autotypenumbers\":\"strict\",\"coloraxis\":{\"colorbar\":{\"outlinewidth\":1,\"tickcolor\":\"rgb(36,36,36)\",\"ticks\":\"outside\"}},\"colorscale\":{\"diverging\":[[0.0,\"rgb(103,0,31)\"],[0.1,\"rgb(178,24,43)\"],[0.2,\"rgb(214,96,77)\"],[0.3,\"rgb(244,165,130)\"],[0.4,\"rgb(253,219,199)\"],[0.5,\"rgb(247,247,247)\"],[0.6,\"rgb(209,229,240)\"],[0.7,\"rgb(146,197,222)\"],[0.8,\"rgb(67,147,195)\"],[0.9,\"rgb(33,102,172)\"],[1.0,\"rgb(5,48,97)\"]],\"sequential\":[[0.0,\"#440154\"],[0.1111111111111111,\"#482878\"],[0.2222222222222222,\"#3e4989\"],[0.3333333333333333,\"#31688e\"],[0.4444444444444444,\"#26828e\"],[0.5555555555555556,\"#1f9e89\"],[0.6666666666666666,\"#35b779\"],[0.7777777777777778,\"#6ece58\"],[0.8888888888888888,\"#b5de2b\"],[1.0,\"#fde725\"]],\"sequentialminus\":[[0.0,\"#440154\"],[0.1111111111111111,\"#482878\"],[0.2222222222222222,\"#3e4989\"],[0.3333333333333333,\"#31688e\"],[0.4444444444444444,\"#26828e\"],[0.5555555555555556,\"#1f9e89\"],[0.6666666666666666,\"#35b779\"],[0.7777777777777778,\"#6ece58\"],[0.8888888888888888,\"#b5de2b\"],[1.0,\"#fde725\"]]},\"colorway\":[\"#1F77B4\",\"#FF7F0E\",\"#2CA02C\",\"#D62728\",\"#9467BD\",\"#8C564B\",\"#E377C2\",\"#7F7F7F\",\"#BCBD22\",\"#17BECF\"],\"font\":{\"color\":\"rgb(36,36,36)\"},\"geo\":{\"bgcolor\":\"white\",\"lakecolor\":\"white\",\"landcolor\":\"white\",\"showlakes\":true,\"showland\":true,\"subunitcolor\":\"white\"},\"hoverlabel\":{\"align\":\"left\"},\"hovermode\":\"closest\",\"mapbox\":{\"style\":\"light\"},\"paper_bgcolor\":\"white\",\"plot_bgcolor\":\"white\",\"polar\":{\"angularaxis\":{\"gridcolor\":\"rgb(232,232,232)\",\"linecolor\":\"rgb(36,36,36)\",\"showgrid\":false,\"showline\":true,\"ticks\":\"outside\"},\"bgcolor\":\"white\",\"radialaxis\":{\"gridcolor\":\"rgb(232,232,232)\",\"linecolor\":\"rgb(36,36,36)\",\"showgrid\":false,\"showline\":true,\"ticks\":\"outside\"}},\"scene\":{\"xaxis\":{\"backgroundcolor\":\"white\",\"gridcolor\":\"rgb(232,232,232)\",\"gridwidth\":2,\"linecolor\":\"rgb(36,36,36)\",\"showbackground\":true,\"showgrid\":false,\"showline\":true,\"ticks\":\"outside\",\"zeroline\":false,\"zerolinecolor\":\"rgb(36,36,36)\"},\"yaxis\":{\"backgroundcolor\":\"white\",\"gridcolor\":\"rgb(232,232,232)\",\"gridwidth\":2,\"linecolor\":\"rgb(36,36,36)\",\"showbackground\":true,\"showgrid\":false,\"showline\":true,\"ticks\":\"outside\",\"zeroline\":false,\"zerolinecolor\":\"rgb(36,36,36)\"},\"zaxis\":{\"backgroundcolor\":\"white\",\"gridcolor\":\"rgb(232,232,232)\",\"gridwidth\":2,\"linecolor\":\"rgb(36,36,36)\",\"showbackground\":true,\"showgrid\":false,\"showline\":true,\"ticks\":\"outside\",\"zeroline\":false,\"zerolinecolor\":\"rgb(36,36,36)\"}},\"shapedefaults\":{\"fillcolor\":\"black\",\"line\":{\"width\":0},\"opacity\":0.3},\"ternary\":{\"aaxis\":{\"gridcolor\":\"rgb(232,232,232)\",\"linecolor\":\"rgb(36,36,36)\",\"showgrid\":false,\"showline\":true,\"ticks\":\"outside\"},\"baxis\":{\"gridcolor\":\"rgb(232,232,232)\",\"linecolor\":\"rgb(36,36,36)\",\"showgrid\":false,\"showline\":true,\"ticks\":\"outside\"},\"bgcolor\":\"white\",\"caxis\":{\"gridcolor\":\"rgb(232,232,232)\",\"linecolor\":\"rgb(36,36,36)\",\"showgrid\":false,\"showline\":true,\"ticks\":\"outside\"}},\"title\":{\"x\":0.05},\"xaxis\":{\"automargin\":true,\"gridcolor\":\"rgb(232,232,232)\",\"linecolor\":\"rgb(36,36,36)\",\"showgrid\":false,\"showline\":true,\"ticks\":\"outside\",\"title\":{\"standoff\":15},\"zeroline\":false,\"zerolinecolor\":\"rgb(36,36,36)\"},\"yaxis\":{\"automargin\":true,\"gridcolor\":\"rgb(232,232,232)\",\"linecolor\":\"rgb(36,36,36)\",\"showgrid\":false,\"showline\":true,\"ticks\":\"outside\",\"title\":{\"standoff\":15},\"zeroline\":false,\"zerolinecolor\":\"rgb(36,36,36)\"}}},\"legend\":{\"yanchor\":\"top\",\"y\":0.99,\"xanchor\":\"right\",\"x\":0.99,\"traceorder\":\"normal\"},\"margin\":{\"l\":55,\"r\":10,\"t\":10,\"b\":40},\"yaxis\":{\"title\":{\"text\":\"Annual Emissions (GtCO\\u2082-equ)\"},\"showgrid\":true,\"gridwidth\":1,\"gridcolor\":\"Lightgrey\"},\"autosize\":false,\"width\":750,\"height\":500,\"font\":{\"size\":12,\"family\":\"Arial\"}},                        {\"responsive\": true}                    ).then(function(){\n",
       "                            \n",
       "var gd = document.getElementById('eb2e8785-a9c9-446a-9132-16ac226279d0');\n",
       "var x = new MutationObserver(function (mutations, observer) {{\n",
       "        var display = window.getComputedStyle(gd).display;\n",
       "        if (!display || display === 'none') {{\n",
       "            console.log([gd, 'removed!']);\n",
       "            Plotly.purge(gd);\n",
       "            observer.disconnect();\n",
       "        }}\n",
       "}});\n",
       "\n",
       "// Listen for the removal of the full notebook cells\n",
       "var notebookContainer = gd.closest('#notebook-container');\n",
       "if (notebookContainer) {{\n",
       "    x.observe(notebookContainer, {childList: true});\n",
       "}}\n",
       "\n",
       "// Listen for the clearing of the current output cell\n",
       "var outputEl = gd.closest('.output');\n",
       "if (outputEl) {{\n",
       "    x.observe(outputEl, {childList: true});\n",
       "}}\n",
       "\n",
       "                        })                };                });            </script>        </div>"
      ]
     },
     "metadata": {},
     "output_type": "display_data"
    }
   ],
   "source": [
    "fig2 = go.Figure()\n",
    "\n",
    "alpha = 0.6\n",
    "color_1 = [\"rgba(86, 119, 194, 1)\", f\"rgba(86, 119, 194, {alpha})\"]\n",
    "color_2 = [\"rgba(99, 182, 137, 1)\", f\"rgba(99, 182, 137, {alpha})\"]\n",
    "color_3 = [\"rgba(238,92,66, 1)\", f\"rgba(238,92,66, {alpha})\"]\n",
    "color_4 = [\"rgba(255,215,0, 1)\", f\"rgba(255,215,0, {alpha})\"]\n",
    "color_5 = [\"rgba(142,229,238, 1)\", f\"rgba(142,229,238, {alpha})\"]\n",
    "color_6 = [\"rgba(169,169,169, 1)\", f\"rgba(169,169,169, {alpha})\"]\n",
    "color_7 = [\"rgba(0, 0, 0, 1)\", f\"rgba(0, 0, 0, {alpha})\"]\n",
    "\n",
    "date_range = [1990, 1991, 1992, 1993, 1994, 1995, 1996, 1997, 1998, 1999, 2000, 2001, 2002, 2003,2004, 2005, 2006, 2007, 2008, 2009, 2010, 2011, 2012, 2013, 2014, 2015, 2016, 2017, 2018, 2019, 2020]\n",
    "#date_range = [\"2019-03-01\", \"2019-06-01\"]\n",
    "\n",
    "def errorbars(df, var, color, dash, name, showlegend=False):\n",
    "\n",
    "    error_minus=df[var] - df[f\"{var}_std\"]\n",
    "    error_plus=df[var] + df[f\"{var}_std\"]\n",
    "\n",
    "    fig2.add_trace(go.Scatter(\n",
    "        x=date_range,\n",
    "        y=error_minus.values,\n",
    "        fill=None,\n",
    "        mode='lines',\n",
    "        line=dict(color=color[1], width=0.1),\n",
    "        showlegend=False,\n",
    "        hoverinfo='skip'\n",
    "        ))\n",
    "\n",
    "    fig2.add_trace(go.Scatter(\n",
    "        x=date_range,\n",
    "        y=error_plus.values,\n",
    "        fill=\"tonexty\",\n",
    "        mode='lines',\n",
    "        line=dict(color=color[1], width=0.1),\n",
    "        showlegend=False,\n",
    "        hoverinfo='skip'\n",
    "        ))\n",
    "    \n",
    "    fig2.add_trace(go.Scatter(\n",
    "        x=date_range,\n",
    "        y=df[var],\n",
    "        mode=\"lines\",\n",
    "        line=dict(color=color[0], dash=\"dot\", width = 0.1),\n",
    "        showlegend=showlegend,\n",
    "        name=name,\n",
    "        hovertemplate = 'InTEM %{x|%Y}: %{y:.0f} Gt yr⁻¹<extra></extra>',\n",
    "        ))\n",
    "\n",
    "fig2.add_trace(go.Scatter(\n",
    "    x=date_range,\n",
    "    y=energy_both,\n",
    "    mode='lines',\n",
    "    line=dict(color=color_1[0], width=3.),\n",
    "    showlegend=True,\n",
    "    hovertemplate = 'Inventory Energy %{x|%Y}: %{y:.0f} Gt yr⁻¹<extra></extra>',\n",
    "    name=\"Energy and Transport\",\n",
    "    ))\n",
    "\n",
    "fig2.add_trace(go.Scatter(\n",
    "    x=date_range,\n",
    "    y=industrial_both,\n",
    "    mode='lines',\n",
    "    line=dict(color=color_2[0], width=3.),\n",
    "    showlegend=True,\n",
    "    hovertemplate = 'Inventory Industrial Processes %{x|%Y}: %{y:.0f} Gt yr⁻¹<extra></extra>',\n",
    "    name=\"Industrial processes\",\n",
    "    ))\n",
    "\n",
    "fig2.add_trace(go.Scatter(\n",
    "    x=date_range,\n",
    "    y=agricultural_both,\n",
    "    mode='lines',\n",
    "    line=dict(color=color_3[0], width=3.),\n",
    "    showlegend=True,\n",
    "    hovertemplate = 'Inventory Agriculture %{x|%Y}: %{y:.0f} Gt yr⁻¹<extra></extra>',\n",
    "    name=\"Agriculture\",\n",
    "    ))\n",
    "\n",
    "fig2.add_trace(go.Scatter(\n",
    "    x=date_range,\n",
    "    y=LULUCF_both,\n",
    "    mode='lines',\n",
    "    line=dict(color=color_4[0], width=3.),\n",
    "    showlegend=True,\n",
    "    hovertemplate = 'Inventory LULUCF %{x|%Y}: %{y:.0f} Gt yr⁻¹<extra></extra>',\n",
    "    name=\"Land use, Land-use change and forestry\",\n",
    "    ))\n",
    "\n",
    "fig2.add_trace(go.Scatter(\n",
    "    x=date_range,\n",
    "    y=waste_both,\n",
    "    mode='lines',\n",
    "    line=dict(color=color_5[0], width=3.),\n",
    "    showlegend=True,\n",
    "    hovertemplate = 'Inventory Waste %{x|%Y}: %{y:.0f} Gt yr⁻¹<extra></extra>',\n",
    "    name=\"Waste\",\n",
    "    ))\n",
    "\n",
    "errorbars(energy_both_intem, \"InTEM_Energy\", color_1, None, \"InTEM\")\n",
    "fig2.add_trace(go.Scatter(\n",
    "    x=date_range,\n",
    "    y=energy_both_intem[\"InTEM_Energy\"],\n",
    "    mode='lines',\n",
    "    line=dict(color=color_1[0], dash=\"dot\", width=5),\n",
    "    showlegend=False,\n",
    "    hovertemplate = 'InTEM Energy %{x|%Y}: %{y:.0f} Gt yr⁻¹<extra></extra>',\n",
    "    name=\"Energy\",\n",
    "    ))\n",
    "\n",
    "errorbars(industrial_both_intem, \"InTEM_Industry\", color_2, None, \"InTEM\")\n",
    "fig2.add_trace(go.Scatter(\n",
    "    x=date_range,\n",
    "    y=industrial_both_intem[\"InTEM_Industry\"],\n",
    "    mode='lines',\n",
    "    line=dict(color=color_2[0], dash=\"dot\", width=5),\n",
    "    showlegend=False,\n",
    "    hovertemplate = 'InTEM Industrial Processes %{x|%Y}: %{y:.0f} Gt yr⁻¹<extra></extra>',\n",
    "    name=\"Industrial processes\",\n",
    "    ))\n",
    "\n",
    "errorbars(agricultural_both_intem, \"InTEM_Agriculture\", color_3, None, \"InTEM\")\n",
    "fig2.add_trace(go.Scatter(\n",
    "    x=date_range,\n",
    "    y=agricultural_both_intem[\"InTEM_Agriculture\"],\n",
    "    mode='lines',\n",
    "    line=dict(color=color_3[0], dash=\"dot\", width=5),\n",
    "    showlegend=False,\n",
    "    hovertemplate = 'InTEM Agriculture %{x|%Y}: %{y:.0f} Gt yr⁻¹<extra></extra>',\n",
    "    name=\"Agriculture\",\n",
    "    ))\n",
    "\n",
    "errorbars(LULUCF_both_intem, \"InTEM_LULUCF\", color_4, None, \"InTEM\")\n",
    "fig2.add_trace(go.Scatter(\n",
    "    x=date_range,\n",
    "    y=LULUCF_both_intem[\"InTEM_LULUCF\"],\n",
    "    mode='lines',\n",
    "    line=dict(color=color_4[0], dash=\"dot\", width=5),\n",
    "    showlegend=False,\n",
    "    hovertemplate = 'InTEM LULUCF %{x|%Y}: %{y:.0f} Gt yr⁻¹<extra></extra>',\n",
    "    name=\"Land use, Land-use change and forestry\",\n",
    "    ))\n",
    "\n",
    "errorbars(waste_both_intem, \"InTEM_Waste\", color_5, None, \"InTEM\")\n",
    "fig2.add_trace(go.Scatter(\n",
    "    x=date_range,\n",
    "    y=waste_both_intem[\"InTEM_Waste\"],\n",
    "    mode='lines',\n",
    "    line=dict(color=color_5[0], dash=\"dot\", width=5),\n",
    "    showlegend=False,\n",
    "    hovertemplate = 'InTEM Waste %{x|%Y}: %{y:.0f} Gt yr⁻¹<extra></extra>',\n",
    "    name=\"Waste\",\n",
    "    ))\n",
    "\n",
    "#fig2.add_trace(go.Scatter(\n",
    "#    x=date_range,\n",
    "#    y=invent_fgas_1[\"Total\"],\n",
    "#    mode='lines',\n",
    "#    line=dict(color=color_6[0], width=3.),\n",
    "#    showlegend=True,\n",
    "#    hovertemplate = 'Inventory F Gases %{x|%Y}: %{y:.0f} Gt yr⁻¹<extra></extra>',\n",
    "#    name=\"F Gases\",\n",
    "#    ))\n",
    "\n",
    "fig2.add_trace(go.Scatter(\n",
    "    x=date_range,\n",
    "    y=df_test[\"ODS\"],\n",
    "    mode='lines',\n",
    "    line=dict(color=color_6[0], width=3.),\n",
    "    showlegend=True,\n",
    "    hovertemplate = 'Inventory Product uses as substitutes for ODS %{x|%Y}: %{y:.0f} Gt yr⁻¹<extra></extra>',\n",
    "    name=\"Product uses as substitutes for ODS\",\n",
    "    ))\n",
    "\n",
    "#errorbars(df_fgas, \"InTEM\", color_6, None, \"InTEM\")\n",
    "#fig2.add_trace(go.Scatter(\n",
    "#    x=date_range,\n",
    "#    y=df_fgas[\"InTEM\"],\n",
    "#    mode='lines',\n",
    "#    line=dict(color=color_6[0], dash = \"dot\",  width=5),\n",
    "#    showlegend=False,\n",
    "#    hovertemplate = 'InTEM F Gases %{x|%Y}: %{y:.0f} Gt yr⁻¹<extra></extra>',\n",
    "#    name=\"F Gases\",\n",
    "#    ))\n",
    "\n",
    "errorbars(df_fgas, \"InTEM_ODS\", color_6, None, \"InTEM\")\n",
    "fig2.add_trace(go.Scatter(\n",
    "    x=date_range,\n",
    "    y=df_fgas[\"InTEM_ODS\"],\n",
    "    mode='lines',\n",
    "    line=dict(color=color_6[0], dash = \"dot\",  width=5),\n",
    "    showlegend=False,\n",
    "    hovertemplate = 'InTEM F Gases %{x|%Y}: %{y:.0f} Gt yr⁻¹<extra></extra>',\n",
    "    name=\"F Gases\",\n",
    "    ))\n",
    "\n",
    "\n",
    "fig2.add_trace(go.Scatter(\n",
    "    x=[pd.Timestamp(\"1900-01-01\"), pd.Timestamp(\"1900-01-02\")],\n",
    "    y=[0., 0.],\n",
    "    line=dict(color=\"black\", dash=\"dot\", width=4),\n",
    "    marker=dict(opacity=0., size=0),\n",
    "    showlegend=True,\n",
    "    name=\"InTEM\"\n",
    "    ))\n",
    "    \n",
    "fig2.update_layout(\n",
    "    yaxis_title=\"Annual Emissions (GtCO₂-equ)\",\n",
    "    template=\"simple_white\",\n",
    "    autosize=False,\n",
    "    width=750,\n",
    "    height=500,\n",
    "    legend=dict(\n",
    "        yanchor=\"top\",\n",
    "        y=0.99,\n",
    "        xanchor=\"right\",\n",
    "        x=0.99,\n",
    "        traceorder=\"normal\"),\n",
    "    margin=dict(l=55, r=10, t=10, b=40),\n",
    "    # paper_bgcolor='rgba(0,0,0,0)',\n",
    "    # plot_bgcolor='rgba(0,0,0,0)'\n",
    ")\n",
    "    \n",
    "\n",
    "\n",
    "fig2.update_yaxes(showgrid=True, gridwidth=1, gridcolor='Lightgrey')\n",
    "\n",
    "fig2.layout.font.size=12\n",
    "fig2.layout.font.family=\"Arial\"\n",
    "\n",
    "#fig2.write_image(\"Annual_Emissions_by_sector.png\")\n",
    "#fig2.write_image(\"Annual_Emissions_by_sector.pdf\")\n",
    "#fig2.write_html(\"Annual_Emissions_by_sector.html\")\n",
    "\n",
    "fig2.show()"
   ]
  },
  {
   "cell_type": "code",
   "execution_count": null,
   "metadata": {},
   "outputs": [],
   "source": []
  }
 ],
 "metadata": {
  "kernelspec": {
   "display_name": "Python 3 (ipykernel)",
   "language": "python",
   "name": "python3"
  },
  "language_info": {
   "codemirror_mode": {
    "name": "ipython",
    "version": 3
   },
   "file_extension": ".py",
   "mimetype": "text/x-python",
   "name": "python",
   "nbconvert_exporter": "python",
   "pygments_lexer": "ipython3",
   "version": "3.9.7"
  },
  "vscode": {
   "interpreter": {
    "hash": "40d3a090f54c6569ab1632332b64b2c03c39dcf918b08424e98f38b5ae0af88f"
   }
  }
 },
 "nbformat": 4,
 "nbformat_minor": 4
}
