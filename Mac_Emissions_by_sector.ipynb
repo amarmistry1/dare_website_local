{
 "cells": [
  {
   "cell_type": "markdown",
   "metadata": {},
   "source": [
    "# Annual emissions broken down by sector\n",
    "\n",
    "Here we can present the visualisations and discuss them. \n",
    "\n",
    "This page can be easily printed to a pdf using the buttons on the top right hand side of this web page.\n",
    "\n",
    "This page is just a markdown file that has been slightly adapted to look nicer in Jupyter Books - e.g. removing the cell inputs/ outputs to only show the interactive graph below."
   ]
  },
  {
   "cell_type": "code",
   "execution_count": 35,
   "metadata": {
    "tags": [
     "remove-input"
    ]
   },
   "outputs": [],
   "source": [
    "import pandas as pd\n",
    "from itertools import takewhile\n",
    "import plotly.graph_objects as go\n",
    "import base64\n",
    "import numpy as np\n",
    "from dare_viz import path"
   ]
  },
  {
   "cell_type": "code",
   "execution_count": 3,
   "metadata": {
    "tags": [
     "remove-input"
    ]
   },
   "outputs": [],
   "source": [
    "xlsCH4 = pd.ExcelFile('GBR_2022_2020_10052022_142545.xlsx')\n",
    "dfCH4 = pd.read_excel(xlsCH4, 'Table10s3', header=4)\n",
    "dfCH4.set_index(\"GREENHOUSE GAS SOURCE AND SINK CATEGORIES\", inplace=True)\n",
    "dfCH4.dropna(inplace=True)\n",
    "\n",
    "dfCH4.drop(\n",
    "    labels = [\"D.  Non-energy products from fuels and solvent use\", \"G.  Other product manufacture and use \", \"C.  Rice cultivation\", \"D.  Agricultural soils\", \"E.  Prescribed burning of savannas\", \"F.  Other land\", \"E.  Other \",\"6.  Other (as specified in summary 1.A)\", \"International bunkers\", \"Navigation\", \"Multilateral operations\",\n",
    " \"Aviation\"],\n",
    "    axis=0,\n",
    "    inplace = True\n",
    ")\n",
    "dfCH4.drop(\n",
    "    labels = [\"Base year(1)\", \"Change from base to latest reported year\"],\n",
    "    axis=1,\n",
    "    inplace = True\n",
    ")\n",
    "#dfCH4"
   ]
  },
  {
   "cell_type": "code",
   "execution_count": 4,
   "metadata": {
    "tags": [
     "remove-input"
    ]
   },
   "outputs": [],
   "source": [
    "dfCH4_CO2_equ = dfCH4 / 1000 * 28\n",
    "#dfCH4_CO2_equ"
   ]
  },
  {
   "cell_type": "code",
   "execution_count": 5,
   "metadata": {
    "tags": [
     "remove-input"
    ]
   },
   "outputs": [],
   "source": [
    "xlsN2O = pd.ExcelFile('GBR_2022_2020_10052022_142545.xlsx')\n",
    "dfN2O = pd.read_excel(xlsN2O, 'Table10s4', header=4)\n",
    "dfN2O.set_index(\"GREENHOUSE GAS SOURCE AND SINK CATEGORIES\", inplace=True)\n",
    "dfN2O.dropna(inplace=True)\n",
    "\n",
    "dfN2O.drop(\n",
    "    labels = [\"D.  Non-energy products from fuels and solvent use\",  \"E.  Prescribed burning of savannas\", \"F.  Other land\", \"E.  Other \",\"6.  Other (as specified in summary 1.A)\", \"International bunkers\", \"Navigation\", \"Multilateral operations\",\n",
    " \"Aviation\", \"Indirect N2O\", \"H.  Other \"],\n",
    "    axis=0,\n",
    "    inplace = True\n",
    ")\n",
    "dfN2O.drop(\n",
    "    labels = [\"Base year(1)\", \"Change from base to latest reported year\"],\n",
    "    axis=1,\n",
    "    inplace = True\n",
    ")\n",
    "#dfN2O"
   ]
  },
  {
   "cell_type": "code",
   "execution_count": 6,
   "metadata": {
    "tags": [
     "remove-input"
    ]
   },
   "outputs": [],
   "source": [
    "dfN2O_CO2_equ = dfN2O / 1000 * 265\n",
    "#dfN2O_CO2_equ"
   ]
  },
  {
   "cell_type": "code",
   "execution_count": 7,
   "metadata": {
    "tags": [
     "remove-input"
    ]
   },
   "outputs": [],
   "source": [
    "invent_fgas = pd.read_csv('UK_NIR_2022_co2e_all_gases_yearly.csv')\n",
    "invent_fgas.set_index(\"year\", inplace=True)\n",
    "#invent_fgas"
   ]
  },
  {
   "cell_type": "code",
   "execution_count": 9,
   "metadata": {
    "tags": [
     "remove-input"
    ]
   },
   "outputs": [],
   "source": [
    "invent_fgas_1 = invent_fgas / 1000\n",
    "invent_fgas_1[\"Total\"] = invent_fgas_1.sum(axis=1)\n",
    "invent_fgas_1.index = pd.to_datetime(invent_fgas_1.index, format='%Y')\n",
    "#invent_fgas_1"
   ]
  },
  {
   "cell_type": "code",
   "execution_count": 10,
   "metadata": {
    "tags": [
     "remove-input"
    ]
   },
   "outputs": [],
   "source": [
    "hfc23 = pd.read_csv('UK_NIR_2022_HFC-23.csv')\n",
    "hfc23.set_index(\"GREENHOUSE GAS SOURCE AND SINK CATEGORIES\", inplace=True)\n",
    "hfc23.fillna(0, inplace=True)\n",
    "#hfc23\n",
    "\n",
    "hfc32 = pd.read_csv('UK_NIR_2022_HFC-32.csv')\n",
    "hfc32.set_index(\"GREENHOUSE GAS SOURCE AND SINK CATEGORIES\", inplace=True)\n",
    "hfc32.fillna(0, inplace=True)\n",
    "#hfc32\n",
    "\n",
    "hfc4310mee = pd.read_csv('UK_NIR_2022_HFC-43-10mee.csv')\n",
    "hfc4310mee.set_index(\"GREENHOUSE GAS SOURCE AND SINK CATEGORIES\", inplace=True)\n",
    "hfc4310mee.replace(\"NA,NO\", 0, inplace=True)\n",
    "#hfc4310mee.fillna(0, inplace=True)\n",
    "#hfc4310mee\n",
    "\n",
    "hfc125 = pd.read_csv('UK_NIR_2022_HFC-125.csv')\n",
    "hfc125.set_index(\"GREENHOUSE GAS SOURCE AND SINK CATEGORIES\", inplace=True)\n",
    "#hfc125.replace(\"NA,NO\", 0, inplace=True)\n",
    "hfc125.fillna(0, inplace=True)\n",
    "#hfc125\n",
    "\n",
    "hfc134a = pd.read_csv('UK_NIR_2022_HFC-134a.csv')\n",
    "hfc134a.set_index(\"GREENHOUSE GAS SOURCE AND SINK CATEGORIES\", inplace=True)\n",
    "#hfc134a.replace(\"NA,NO\", 0, inplace=True)\n",
    "hfc134a.fillna(0, inplace=True)\n",
    "#hfc134a\n",
    "\n",
    "hfc143a = pd.read_csv('UK_NIR_2022_HFC-143a.csv')\n",
    "hfc143a.set_index(\"GREENHOUSE GAS SOURCE AND SINK CATEGORIES\", inplace=True)\n",
    "#hfc143a.replace(\"NA,NO\", 0, inplace=True)\n",
    "hfc143a.fillna(0, inplace=True)\n",
    "#hfc143a\n",
    "\n",
    "hfc152a = pd.read_csv('UK_NIR_2022_HFC-152a.csv')\n",
    "hfc152a.set_index(\"GREENHOUSE GAS SOURCE AND SINK CATEGORIES\", inplace=True)\n",
    "#hfc152a.replace(\"NA,NO\", 0, inplace=True)\n",
    "hfc152a.fillna(0, inplace=True)\n",
    "#hfc152a\n",
    "\n",
    "hfc227ea = pd.read_csv('UK_NIR_2022_HFC-227ea.csv')\n",
    "hfc227ea.set_index(\"GREENHOUSE GAS SOURCE AND SINK CATEGORIES\", inplace=True)\n",
    "#hfc227ea.replace(\"NA,NO\", 0, inplace=True)\n",
    "hfc227ea.fillna(0, inplace=True)\n",
    "#hfc227ea\n",
    "\n",
    "hfc245fa = pd.read_csv('UK_NIR_2022_HFC-245fa.csv')\n",
    "hfc245fa.set_index(\"GREENHOUSE GAS SOURCE AND SINK CATEGORIES\", inplace=True)\n",
    "#hfc245fa.replace(\"NA,NO\", 0, inplace=True)\n",
    "hfc245fa.fillna(0, inplace=True)\n",
    "#hfc245fa\n",
    "\n",
    "hfc365mfc = pd.read_csv('UK_NIR_2022_HFC-365mfc.csv')\n",
    "hfc365mfc.set_index(\"GREENHOUSE GAS SOURCE AND SINK CATEGORIES\", inplace=True)\n",
    "#hfc365mfc.replace(\"NA,NO\", 0, inplace=True)\n",
    "hfc365mfc.fillna(0, inplace=True)\n",
    "#hfc365mfc"
   ]
  },
  {
   "cell_type": "code",
   "execution_count": 11,
   "metadata": {
    "tags": [
     "remove-cell"
    ]
   },
   "outputs": [
    {
     "data": {
      "text/plain": [
       "1990         0.0\n",
       "1991         0.0\n",
       "1992         0.0\n",
       "1993         0.0\n",
       "1994         0.0\n",
       "1995         0.0\n",
       "1996         0.0\n",
       "1997         0.0\n",
       "1998         0.0\n",
       "1999         0.0\n",
       "2000         0.0\n",
       "2001         0.0\n",
       "2002         0.0\n",
       "2003         0.0\n",
       "2004         0.0\n",
       "2005         0.0\n",
       "2006         0.0\n",
       "2007         0.0\n",
       "2008         0.0\n",
       "2009         0.0\n",
       "2010         0.0\n",
       "2011         0.0\n",
       "2012         0.0\n",
       "2013         0.0\n",
       "2014         0.0\n",
       "2015         0.0\n",
       "2016         0.0\n",
       "2017    0.012827\n",
       "2018     0.08987\n",
       "2019    0.013735\n",
       "2020    0.013735\n",
       "Name: F.  Product uses as substitutes for ODS(2), dtype: object"
      ]
     },
     "execution_count": 11,
     "metadata": {},
     "output_type": "execute_result"
    }
   ],
   "source": [
    "hfc23.loc[\"F.  Product uses as substitutes for ODS(2)\"] / 1000 *12690# + (hfc32.loc[\"F.  Product uses as substitutes for ODS(2)\"] / 1000 *705) + (hfc4310mee.loc[\"F.  Product uses as substitutes for ODS(2)\"] / 1000 *1470) + (hfc125.loc[\"F.  Product uses as substitutes for ODS(2)\"] / 1000 *3450) + (hfc134a.loc[\"F.  Product uses as substitutes for ODS(2)\"] / 1000 *1360) + (hfc143a.loc[\"F.  Product uses as substitutes for ODS(2)\"] / 1000 *5080) + (hfc152a.loc[\"F.  Product uses as substitutes for ODS(2)\"] / 1000 *148) + (hfc227ea.loc[\"F.  Product uses as substitutes for ODS(2)\"] / 1000 *3140) + (hfc245fa.loc[\"F.  Product uses as substitutes for ODS(2)\"] / 1000 *880) + (hfc365mfc.loc[\"F.  Product uses as substitutes for ODS(2)\"] / 1000 *810)"
   ]
  },
  {
   "cell_type": "code",
   "execution_count": 36,
   "metadata": {
    "tags": [
     "remove-input"
    ]
   },
   "outputs": [],
   "source": [
    "test_ODS = (hfc23.loc[\"F.  Product uses as substitutes for ODS(2)\"] / 1000 *14800) + (hfc32.loc[\"F.  Product uses as substitutes for ODS(2)\"] / 1000 *675) + (hfc4310mee.loc[\"F.  Product uses as substitutes for ODS(2)\"] / 1000 *1640) + (hfc125.loc[\"F.  Product uses as substitutes for ODS(2)\"] / 1000 *3500) + (hfc134a.loc[\"F.  Product uses as substitutes for ODS(2)\"] / 1000 *1430) + (hfc143a.loc[\"F.  Product uses as substitutes for ODS(2)\"] / 1000 *4470) + (hfc152a.loc[\"F.  Product uses as substitutes for ODS(2)\"] / 1000 *124) + (hfc227ea.loc[\"F.  Product uses as substitutes for ODS(2)\"] / 1000 *3220) + (hfc245fa.loc[\"F.  Product uses as substitutes for ODS(2)\"] / 1000 *1030) + (hfc365mfc.loc[\"F.  Product uses as substitutes for ODS(2)\"] / 1000 *794)\n",
    "#test_ODS\n",
    "\n",
    "df_test = pd.DataFrame(test_ODS)\n",
    "df_test.set_index(pd.to_datetime(df_test.index, format='%Y'), inplace=True)\n",
    "\n",
    "df_test[\"ODS\"] = df_test[\"F.  Product uses as substitutes for ODS(2)\"] / 1000\n",
    "df_test[\"Total\"] = invent_fgas_1[\"Total\"]\n",
    "#df_test"
   ]
  },
  {
   "cell_type": "code",
   "execution_count": 11,
   "metadata": {
    "tags": [
     "remove-input"
    ]
   },
   "outputs": [],
   "source": [
    "#test2 = pd.read_csv(r'C:\\Users\\amar1\\UNFCCC_data_local\\2022\\processed_data\\totals\\UK_NIR_2022_all_gases_yearly.csv')\n",
    "#test2.set_index(\"year\", inplace=True)\n",
    "#test2.set_index(pd.to_datetime(test2.index, format='%Y'), inplace=True)\n",
    "#test2[\"Total\"] = test2.sum(axis=1)\n",
    "#test2"
   ]
  },
  {
   "cell_type": "code",
   "execution_count": 12,
   "metadata": {
    "tags": [
     "remove-input"
    ]
   },
   "outputs": [],
   "source": [
    "#test2[\"ODS\"] = df_test[\"F.  Product uses as substitutes for ODS(2)\"]\n",
    "#test2\n",
    "#fgas_fraction = test2[\"ODS\"] / test2[\"Total\"]\n",
    "#fgas_fraction"
   ]
  },
  {
   "cell_type": "code",
   "execution_count": 13,
   "metadata": {
    "tags": [
     "remove-input"
    ]
   },
   "outputs": [],
   "source": [
    "def read_intem(species):\n",
    "\n",
    "    fname = path() / f\"data/intem/Table_UK_2021_{species}.txt\"\n",
    "\n",
    "    with open(fname, \"r\") as f:\n",
    "        headiter = takewhile(lambda s: s.startswith('#'), f)\n",
    "        header = list(headiter)\n",
    "\n",
    "    df = pd.read_csv(fname,\n",
    "                    sep=\",\",\n",
    "                    skipinitialspace=True,\n",
    "                    index_col=\"Year\",\n",
    "                    comment=\"#\")\n",
    "\n",
    "    df = df.apply(pd.to_numeric, errors='ignore')\n",
    "    df.index = pd.to_datetime(df.index, format='%Y')\n",
    "    df.rename(columns = {\"Invent2021\": \"Invent\"}, inplace=True)\n",
    "\n",
    "    for h in header:\n",
    "        if \"GAS\" in h:\n",
    "            species_str = h.split(\":\")[1].strip()\n",
    "        if \"UNITS\" in h:\n",
    "            species_units = h.split(\":\")[1].strip()\n",
    "        if \"GWP\" in h:\n",
    "            species_gwp = float(h.split(\":\")[1].strip())\n",
    "    \n",
    "    return df, species_str, species_units, species_gwp"
   ]
  },
  {
   "cell_type": "code",
   "execution_count": 14,
   "metadata": {
    "tags": [
     "remove-input"
    ]
   },
   "outputs": [],
   "source": [
    "df_ch4, _, _, _ = read_intem(\"ch4\")\n",
    "df_n2o, _, _, _ = read_intem(\"n2o\")\n",
    "#df_ch4"
   ]
  },
  {
   "cell_type": "code",
   "execution_count": 15,
   "metadata": {
    "tags": [
     "remove-input"
    ]
   },
   "outputs": [],
   "source": [
    "# Get F-gases\n",
    "fgas = [f\"hfc{hfc}\" for hfc in [\"23\", \"32\", \"125\", \"134a\", \"143a\", \"152a\", \"227ea\", \"245fa\", \"365mfc\", \"4310mee\"]] + \\\n",
    "    [f\"pfc{pfc}\" for pfc in [\"14\", \"116\", \"218\", \"318\"]] + \\\n",
    "    [\"sf6\"]\n",
    "\n",
    "df_fgas, _, _, _ = read_intem(fgas[0])\n",
    "\n",
    "uncert = df_fgas[\"InTEM_std\"]**2\n",
    "\n",
    "for fg in fgas[1:]:\n",
    "    dfs, _, _, _ = read_intem(fg)\n",
    "    df_fgas += dfs\n",
    "    uncert += df_fgas[\"InTEM_std\"]**2\n",
    "\n",
    "df_fgas[\"InTEM_std\"] = np.sqrt(uncert.values)"
   ]
  },
  {
   "cell_type": "code",
   "execution_count": 37,
   "metadata": {
    "tags": [
     "remove-input"
    ]
   },
   "outputs": [],
   "source": [
    "df_fgas[\"InTEM_ODS\"] = (df_test[\"ODS\"] / df_test[\"Total\"]) * df_fgas[\"InTEM\"]\n",
    "df_fgas[\"InTEM_ODS_std\"] = (df_test[\"ODS\"] / df_test[\"Total\"]) * df_fgas[\"InTEM_std\"]\n",
    "#df_fgas"
   ]
  },
  {
   "cell_type": "code",
   "execution_count": 17,
   "metadata": {
    "tags": [
     "remove-input"
    ]
   },
   "outputs": [],
   "source": [
    "energy_ch4_fraction = pd.DataFrame(dfCH4_CO2_equ.loc[\"1. Energy\"] / dfCH4_CO2_equ.loc[\"Total CH4 emissions with CH4 from LULUCF\"], columns=[\"Energy_Fraction\"])\n",
    "energy_ch4_fraction.index = pd.to_datetime(energy_ch4_fraction.index, format='%Y')\n",
    "#energy_n2o_fraction\n",
    "\n",
    "industry_ch4_fraction = pd.DataFrame(dfCH4_CO2_equ.loc[\"2.  Industrial processes\"] / dfCH4_CO2_equ.loc[\"Total CH4 emissions with CH4 from LULUCF\"], columns=[\"Industry_Fraction\"])\n",
    "industry_ch4_fraction.index = pd.to_datetime(industry_ch4_fraction.index, format='%Y')\n",
    "#industry_n2o_fraction\n",
    "\n",
    "agri_ch4_fraction = pd.DataFrame(dfCH4_CO2_equ.loc[\"3.  Agriculture\"] / dfCH4_CO2_equ.loc[\"Total CH4 emissions with CH4 from LULUCF\"], columns=[\"Agri_Fraction\"])\n",
    "agri_ch4_fraction.index = pd.to_datetime(agri_ch4_fraction.index, format='%Y')\n",
    "#agri_n2o_fraction\n",
    "\n",
    "lulucf_ch4_fraction = pd.DataFrame(dfCH4_CO2_equ.loc[\"4. Land use, land-use change and forestry\"] / dfCH4_CO2_equ.loc[\"Total CH4 emissions with CH4 from LULUCF\"], columns=[\"LULUCF_Fraction\"])\n",
    "lulucf_ch4_fraction.index = pd.to_datetime(lulucf_ch4_fraction.index, format='%Y')\n",
    "#lulucf_n2o_fraction\n",
    "\n",
    "waste_ch4_fraction = pd.DataFrame(dfCH4_CO2_equ.loc[\"5.  Waste\"] / dfCH4_CO2_equ.loc[\"Total CH4 emissions with CH4 from LULUCF\"], columns=[\"Waste_Fraction\"])\n",
    "waste_ch4_fraction.index = pd.to_datetime(waste_ch4_fraction.index, format='%Y')\n",
    "#waste_n2o_fraction"
   ]
  },
  {
   "cell_type": "code",
   "execution_count": 18,
   "metadata": {
    "tags": [
     "remove-input"
    ]
   },
   "outputs": [],
   "source": [
    "frames = [energy_ch4_fraction, industry_ch4_fraction, agri_ch4_fraction, lulucf_ch4_fraction, waste_ch4_fraction, df_ch4]\n",
    "df_ch4_new = pd.concat(frames, axis=1).reindex(df_n2o.index)\n",
    "\n",
    "df_ch4_new[\"InTEM_Energy\"] = df_ch4_new[\"InTEM\"] *df_ch4_new[\"Energy_Fraction\"]\n",
    "df_ch4_new[\"InTEM_Energy_std\"] = df_ch4_new[\"InTEM_std\"] *df_ch4_new[\"Energy_Fraction\"]\n",
    "\n",
    "df_ch4_new[\"InTEM_Industry\"] = df_ch4_new[\"InTEM\"] *df_ch4_new[\"Industry_Fraction\"]\n",
    "df_ch4_new[\"InTEM_Industry_std\"] = df_ch4_new[\"InTEM_std\"] *df_ch4_new[\"Industry_Fraction\"]\n",
    "\n",
    "df_ch4_new[\"InTEM_Agriculture\"] = df_ch4_new[\"InTEM\"] *df_ch4_new[\"Agri_Fraction\"]\n",
    "df_ch4_new[\"InTEM_Agriculture_std\"] = df_ch4_new[\"InTEM_std\"] *df_ch4_new[\"Agri_Fraction\"]\n",
    "\n",
    "df_ch4_new[\"InTEM_LULUCF\"] = df_ch4_new[\"InTEM\"] *df_ch4_new[\"LULUCF_Fraction\"]\n",
    "df_ch4_new[\"InTEM_LULUCF_std\"] = df_ch4_new[\"InTEM_std\"] *df_ch4_new[\"LULUCF_Fraction\"]\n",
    "\n",
    "df_ch4_new[\"InTEM_Waste\"] = df_ch4_new[\"InTEM\"] *df_ch4_new[\"Waste_Fraction\"]\n",
    "df_ch4_new[\"InTEM_Waste_std\"] = df_ch4_new[\"InTEM_std\"] *df_ch4_new[\"Waste_Fraction\"]\n",
    "\n",
    "#df_ch4_new"
   ]
  },
  {
   "cell_type": "code",
   "execution_count": 19,
   "metadata": {
    "tags": [
     "remove-input"
    ]
   },
   "outputs": [],
   "source": [
    "energy_n2o_fraction = pd.DataFrame(dfN2O_CO2_equ.loc[\"1. Energy\"] / dfN2O_CO2_equ.loc[\"Total direct N2O emissions with N2O from LULUCF\"], columns=[\"Energy_Fraction\"])\n",
    "energy_n2o_fraction.index = pd.to_datetime(energy_n2o_fraction.index, format='%Y')\n",
    "#energy_n2o_fraction\n",
    "\n",
    "industry_n2o_fraction = pd.DataFrame(dfN2O_CO2_equ.loc[\"2.  Industrial processes\"] / dfN2O_CO2_equ.loc[\"Total direct N2O emissions with N2O from LULUCF\"], columns=[\"Industry_Fraction\"])\n",
    "industry_n2o_fraction.index = pd.to_datetime(industry_n2o_fraction.index, format='%Y')\n",
    "#industry_n2o_fraction\n",
    "\n",
    "agri_n2o_fraction = pd.DataFrame(dfN2O_CO2_equ.loc[\"3.  Agriculture\"] / dfN2O_CO2_equ.loc[\"Total direct N2O emissions with N2O from LULUCF\"], columns=[\"Agri_Fraction\"])\n",
    "agri_n2o_fraction.index = pd.to_datetime(agri_n2o_fraction.index, format='%Y')\n",
    "#agri_n2o_fraction\n",
    "\n",
    "lulucf_n2o_fraction = pd.DataFrame(dfN2O_CO2_equ.loc[\"4. Land use, land-use change and forestry\"] / dfN2O_CO2_equ.loc[\"Total direct N2O emissions with N2O from LULUCF\"], columns=[\"LULUCF_Fraction\"])\n",
    "lulucf_n2o_fraction.index = pd.to_datetime(lulucf_n2o_fraction.index, format='%Y')\n",
    "#lulucf_n2o_fraction\n",
    "\n",
    "waste_n2o_fraction = pd.DataFrame(dfN2O_CO2_equ.loc[\"5.  Waste\"] / dfN2O_CO2_equ.loc[\"Total direct N2O emissions with N2O from LULUCF\"], columns=[\"Waste_Fraction\"])\n",
    "waste_n2o_fraction.index = pd.to_datetime(waste_n2o_fraction.index, format='%Y')\n",
    "#waste_n2o_fraction"
   ]
  },
  {
   "cell_type": "code",
   "execution_count": 20,
   "metadata": {
    "tags": [
     "remove-input"
    ]
   },
   "outputs": [],
   "source": [
    "frames = [energy_n2o_fraction, industry_n2o_fraction, agri_n2o_fraction, lulucf_n2o_fraction, waste_n2o_fraction, df_n2o]\n",
    "df_n2o_new = pd.concat(frames, axis=1).reindex(df_n2o.index)\n",
    "\n",
    "df_n2o_new[\"InTEM_Energy\"] = df_n2o_new[\"InTEM\"] *df_n2o_new[\"Energy_Fraction\"]\n",
    "df_n2o_new[\"InTEM_Energy_std\"] = df_n2o_new[\"InTEM_std\"] *df_n2o_new[\"Energy_Fraction\"]\n",
    "\n",
    "df_n2o_new[\"InTEM_Industry\"] = df_n2o_new[\"InTEM\"] *df_n2o_new[\"Industry_Fraction\"]\n",
    "df_n2o_new[\"InTEM_Industry_std\"] = df_n2o_new[\"InTEM_std\"] *df_n2o_new[\"Industry_Fraction\"]\n",
    "\n",
    "df_n2o_new[\"InTEM_Agriculture\"] = df_n2o_new[\"InTEM\"] *df_n2o_new[\"Agri_Fraction\"]\n",
    "df_n2o_new[\"InTEM_Agriculture_std\"] = df_n2o_new[\"InTEM_std\"] *df_n2o_new[\"Agri_Fraction\"]\n",
    "\n",
    "df_n2o_new[\"InTEM_LULUCF\"] = df_n2o_new[\"InTEM\"] *df_n2o_new[\"LULUCF_Fraction\"]\n",
    "df_n2o_new[\"InTEM_LULUCF_std\"] = df_n2o_new[\"InTEM_std\"] *df_n2o_new[\"LULUCF_Fraction\"]\n",
    "\n",
    "df_n2o_new[\"InTEM_Waste\"] = df_n2o_new[\"InTEM\"] *df_n2o_new[\"Waste_Fraction\"]\n",
    "df_n2o_new[\"InTEM_Waste_std\"] = df_n2o_new[\"InTEM_std\"] *df_n2o_new[\"Waste_Fraction\"]\n",
    "\n",
    "#df_n2o_new"
   ]
  },
  {
   "cell_type": "code",
   "execution_count": 21,
   "metadata": {
    "tags": [
     "remove-input"
    ]
   },
   "outputs": [],
   "source": [
    "energy_both = dfN2O_CO2_equ.loc[\"1. Energy\"] + dfCH4_CO2_equ.loc[\"1. Energy\"]\n",
    "industrial_both = dfN2O_CO2_equ.loc[\"2.  Industrial processes\"] + dfCH4_CO2_equ.loc[\"2.  Industrial processes\"]\n",
    "agricultural_both = dfN2O_CO2_equ.loc[\"3.  Agriculture\"] + dfCH4_CO2_equ.loc[\"3.  Agriculture\"]\n",
    "LULUCF_both = dfN2O_CO2_equ.loc[\"4. Land use, land-use change and forestry\"] + dfCH4_CO2_equ.loc[\"4. Land use, land-use change and forestry\"]\n",
    "waste_both = dfN2O_CO2_equ.loc[\"5.  Waste\"] + dfCH4_CO2_equ.loc[\"5.  Waste\"]"
   ]
  },
  {
   "cell_type": "code",
   "execution_count": 22,
   "metadata": {
    "tags": [
     "remove-input"
    ]
   },
   "outputs": [],
   "source": [
    "energy_both_intem = pd.DataFrame(df_n2o_new[\"InTEM_Energy\"] + df_ch4_new[\"InTEM_Energy\"], columns=[\"InTEM_Energy\"])\n",
    "energy_both_intem[\"InTEM_Energy_std\"] = df_n2o_new[\"InTEM_Energy_std\"] + df_ch4_new[\"InTEM_Energy_std\"]\n",
    "energy_both_intem.index = pd.to_datetime(energy_both_intem.index, format='%Y')\n",
    "#energy_both_intem\n",
    "\n",
    "industrial_both_intem = pd.DataFrame(df_n2o_new[\"InTEM_Industry\"] + df_ch4_new[\"InTEM_Industry\"], columns=[\"InTEM_Industry\"])\n",
    "industrial_both_intem[\"InTEM_Industry_std\"] = df_n2o_new[\"InTEM_Industry_std\"] + df_ch4_new[\"InTEM_Industry_std\"]\n",
    "industrial_both_intem.index = pd.to_datetime(industrial_both_intem.index, format='%Y')\n",
    "#industrial_both_intem\n",
    "\n",
    "agricultural_both_intem = pd.DataFrame(df_n2o_new[\"InTEM_Agriculture\"] + df_ch4_new[\"InTEM_Agriculture\"], columns=[\"InTEM_Agriculture\"])\n",
    "agricultural_both_intem[\"InTEM_Agriculture_std\"] = df_n2o_new[\"InTEM_Agriculture_std\"] + df_ch4_new[\"InTEM_Agriculture_std\"]\n",
    "agricultural_both_intem.index = pd.to_datetime(agricultural_both_intem.index, format='%Y')\n",
    "#agricultural_both_intem\n",
    "\n",
    "LULUCF_both_intem = pd.DataFrame(df_n2o_new[\"InTEM_LULUCF\"] + df_ch4_new[\"InTEM_LULUCF\"], columns=[\"InTEM_LULUCF\"])\n",
    "LULUCF_both_intem[\"InTEM_LULUCF_std\"] = df_n2o_new[\"InTEM_LULUCF_std\"] + df_ch4_new[\"InTEM_LULUCF_std\"]\n",
    "LULUCF_both_intem.index = pd.to_datetime(LULUCF_both_intem.index, format='%Y')\n",
    "#LULUCF_both_intem\n",
    "\n",
    "waste_both_intem = pd.DataFrame(df_n2o_new[\"InTEM_Waste\"] + df_ch4_new[\"InTEM_Waste\"], columns=[\"InTEM_Waste\"])\n",
    "waste_both_intem[\"InTEM_Waste_std\"] = df_n2o_new[\"InTEM_Waste_std\"] + df_ch4_new[\"InTEM_Waste_std\"]\n",
    "waste_both_intem.index = pd.to_datetime(waste_both_intem.index, format='%Y')\n",
    "#waste_both_intem"
   ]
  },
  {
   "cell_type": "code",
   "execution_count": 26,
   "metadata": {
    "tags": [
     "remove-input"
    ]
   },
   "outputs": [],
   "source": [
    "fig2 = go.Figure()\n",
    "\n",
    "alpha = 0.6\n",
    "color_1 = [\"rgba(86, 119, 194, 1)\", f\"rgba(86, 119, 194, {alpha})\"]\n",
    "color_2 = [\"rgba(99, 182, 137, 1)\", f\"rgba(99, 182, 137, {alpha})\"]\n",
    "color_3 = [\"rgba(238,92,66, 1)\", f\"rgba(238,92,66, {alpha})\"]\n",
    "color_4 = [\"rgba(255,215,0, 1)\", f\"rgba(255,215,0, {alpha})\"]\n",
    "color_5 = [\"rgba(142,229,238, 1)\", f\"rgba(142,229,238, {alpha})\"]\n",
    "color_6 = [\"rgba(169,169,169, 1)\", f\"rgba(169,169,169, {alpha})\"]\n",
    "color_7 = [\"rgba(0, 0, 0, 1)\", f\"rgba(0, 0, 0, {alpha})\"]\n",
    "\n",
    "date_range = [1990, 1991, 1992, 1993, 1994, 1995, 1996, 1997, 1998, 1999, 2000, 2001, 2002, 2003,2004, 2005, 2006, 2007, 2008, 2009, 2010, 2011, 2012, 2013, 2014, 2015, 2016, 2017, 2018, 2019, 2020]\n",
    "#date_range = [\"2019-03-01\", \"2019-06-01\"]\n",
    "\n",
    "def errorbars(df, var, color, dash, name, showlegend=False):\n",
    "\n",
    "    error_minus=df[var] - df[f\"{var}_std\"]\n",
    "    error_plus=df[var] + df[f\"{var}_std\"]\n",
    "\n",
    "    fig2.add_trace(go.Scatter(\n",
    "        x=date_range,\n",
    "        y=error_minus.values,\n",
    "        fill=None,\n",
    "        mode='lines',\n",
    "        line=dict(color=color[1], width=0.1),\n",
    "        showlegend=False,\n",
    "        hoverinfo='skip'\n",
    "        ))\n",
    "\n",
    "    fig2.add_trace(go.Scatter(\n",
    "        x=date_range,\n",
    "        y=error_plus.values,\n",
    "        fill=\"tonexty\",\n",
    "        mode='lines',\n",
    "        line=dict(color=color[1], width=0.1),\n",
    "        showlegend=False,\n",
    "        hoverinfo='skip'\n",
    "        ))\n",
    "    \n",
    "    fig2.add_trace(go.Scatter(\n",
    "        x=date_range,\n",
    "        y=df[var],\n",
    "        mode=\"lines\",\n",
    "        line=dict(color=color[0], dash=\"dot\", width = 0.1),\n",
    "        showlegend=showlegend,\n",
    "        name=name,\n",
    "        hovertemplate = 'InTEM %{x|%Y}: %{y:.0f} Gt yr⁻¹<extra></extra>',\n",
    "        ))\n",
    "\n",
    "fig2.add_trace(go.Scatter(\n",
    "    x=date_range,\n",
    "    y=energy_both,\n",
    "    mode='lines',\n",
    "    line=dict(color=color_1[0], width=3.),\n",
    "    showlegend=True,\n",
    "    hovertemplate = 'Inventory Energy %{x|%Y}: %{y:.0f} Gt yr⁻¹<extra></extra>',\n",
    "    name=\"Energy and Transport\",\n",
    "    ))\n",
    "\n",
    "fig2.add_trace(go.Scatter(\n",
    "    x=date_range,\n",
    "    y=industrial_both,\n",
    "    mode='lines',\n",
    "    line=dict(color=color_2[0], width=3.),\n",
    "    showlegend=True,\n",
    "    hovertemplate = 'Inventory Industrial Processes %{x|%Y}: %{y:.0f} Gt yr⁻¹<extra></extra>',\n",
    "    name=\"Industrial processes\",\n",
    "    ))\n",
    "\n",
    "fig2.add_trace(go.Scatter(\n",
    "    x=date_range,\n",
    "    y=agricultural_both,\n",
    "    mode='lines',\n",
    "    line=dict(color=color_3[0], width=3.),\n",
    "    showlegend=True,\n",
    "    hovertemplate = 'Inventory Agriculture %{x|%Y}: %{y:.0f} Gt yr⁻¹<extra></extra>',\n",
    "    name=\"Agriculture\",\n",
    "    ))\n",
    "\n",
    "fig2.add_trace(go.Scatter(\n",
    "    x=date_range,\n",
    "    y=LULUCF_both,\n",
    "    mode='lines',\n",
    "    line=dict(color=color_4[0], width=3.),\n",
    "    showlegend=True,\n",
    "    hovertemplate = 'Inventory LULUCF %{x|%Y}: %{y:.0f} Gt yr⁻¹<extra></extra>',\n",
    "    name=\"Land use, Land-use change and forestry\",\n",
    "    ))\n",
    "\n",
    "fig2.add_trace(go.Scatter(\n",
    "    x=date_range,\n",
    "    y=waste_both,\n",
    "    mode='lines',\n",
    "    line=dict(color=color_5[0], width=3.),\n",
    "    showlegend=True,\n",
    "    hovertemplate = 'Inventory Waste %{x|%Y}: %{y:.0f} Gt yr⁻¹<extra></extra>',\n",
    "    name=\"Waste\",\n",
    "    ))\n",
    "\n",
    "errorbars(energy_both_intem, \"InTEM_Energy\", color_1, None, \"InTEM\")\n",
    "fig2.add_trace(go.Scatter(\n",
    "    x=date_range,\n",
    "    y=energy_both_intem[\"InTEM_Energy\"],\n",
    "    mode='lines',\n",
    "    line=dict(color=color_1[0], dash=\"dot\", width=5),\n",
    "    showlegend=False,\n",
    "    hovertemplate = 'InTEM Energy %{x|%Y}: %{y:.0f} Gt yr⁻¹<extra></extra>',\n",
    "    name=\"Energy\",\n",
    "    ))\n",
    "\n",
    "errorbars(industrial_both_intem, \"InTEM_Industry\", color_2, None, \"InTEM\")\n",
    "fig2.add_trace(go.Scatter(\n",
    "    x=date_range,\n",
    "    y=industrial_both_intem[\"InTEM_Industry\"],\n",
    "    mode='lines',\n",
    "    line=dict(color=color_2[0], dash=\"dot\", width=5),\n",
    "    showlegend=False,\n",
    "    hovertemplate = 'InTEM Industrial Processes %{x|%Y}: %{y:.0f} Gt yr⁻¹<extra></extra>',\n",
    "    name=\"Industrial processes\",\n",
    "    ))\n",
    "\n",
    "errorbars(agricultural_both_intem, \"InTEM_Agriculture\", color_3, None, \"InTEM\")\n",
    "fig2.add_trace(go.Scatter(\n",
    "    x=date_range,\n",
    "    y=agricultural_both_intem[\"InTEM_Agriculture\"],\n",
    "    mode='lines',\n",
    "    line=dict(color=color_3[0], dash=\"dot\", width=5),\n",
    "    showlegend=False,\n",
    "    hovertemplate = 'InTEM Agriculture %{x|%Y}: %{y:.0f} Gt yr⁻¹<extra></extra>',\n",
    "    name=\"Agriculture\",\n",
    "    ))\n",
    "\n",
    "errorbars(LULUCF_both_intem, \"InTEM_LULUCF\", color_4, None, \"InTEM\")\n",
    "fig2.add_trace(go.Scatter(\n",
    "    x=date_range,\n",
    "    y=LULUCF_both_intem[\"InTEM_LULUCF\"],\n",
    "    mode='lines',\n",
    "    line=dict(color=color_4[0], dash=\"dot\", width=5),\n",
    "    showlegend=False,\n",
    "    hovertemplate = 'InTEM LULUCF %{x|%Y}: %{y:.0f} Gt yr⁻¹<extra></extra>',\n",
    "    name=\"Land use, Land-use change and forestry\",\n",
    "    ))\n",
    "\n",
    "errorbars(waste_both_intem, \"InTEM_Waste\", color_5, None, \"InTEM\")\n",
    "fig2.add_trace(go.Scatter(\n",
    "    x=date_range,\n",
    "    y=waste_both_intem[\"InTEM_Waste\"],\n",
    "    mode='lines',\n",
    "    line=dict(color=color_5[0], dash=\"dot\", width=5),\n",
    "    showlegend=False,\n",
    "    hovertemplate = 'InTEM Waste %{x|%Y}: %{y:.0f} Gt yr⁻¹<extra></extra>',\n",
    "    name=\"Waste\",\n",
    "    ))\n",
    "\n",
    "#fig2.add_trace(go.Scatter(\n",
    "#    x=date_range,\n",
    "#    y=invent_fgas_1[\"Total\"],\n",
    "#    mode='lines',\n",
    "#    line=dict(color=color_6[0], width=3.),\n",
    "#    showlegend=True,\n",
    "#    hovertemplate = 'Inventory F Gases %{x|%Y}: %{y:.0f} Gt yr⁻¹<extra></extra>',\n",
    "#    name=\"F Gases\",\n",
    "#    ))\n",
    "\n",
    "fig2.add_trace(go.Scatter(\n",
    "    x=date_range,\n",
    "    y=df_test[\"ODS\"],\n",
    "    mode='lines',\n",
    "    line=dict(color=color_6[0], width=3.),\n",
    "    showlegend=True,\n",
    "    hovertemplate = 'Inventory Product uses as substitutes for ODS %{x|%Y}: %{y:.0f} Gt yr⁻¹<extra></extra>',\n",
    "    name=\"Product uses as substitutes for ODS\",\n",
    "    ))\n",
    "\n",
    "#errorbars(df_fgas, \"InTEM\", color_6, None, \"InTEM\")\n",
    "#fig2.add_trace(go.Scatter(\n",
    "#    x=date_range,\n",
    "#    y=df_fgas[\"InTEM\"],\n",
    "#    mode='lines',\n",
    "#    line=dict(color=color_6[0], dash = \"dot\",  width=5),\n",
    "#    showlegend=False,\n",
    "#    hovertemplate = 'InTEM F Gases %{x|%Y}: %{y:.0f} Gt yr⁻¹<extra></extra>',\n",
    "#    name=\"F Gases\",\n",
    "#    ))\n",
    "\n",
    "errorbars(df_fgas, \"InTEM_ODS\", color_6, None, \"InTEM\")\n",
    "fig2.add_trace(go.Scatter(\n",
    "    x=date_range,\n",
    "    y=df_fgas[\"InTEM_ODS\"],\n",
    "    mode='lines',\n",
    "    line=dict(color=color_6[0], dash = \"dot\",  width=5),\n",
    "    showlegend=False,\n",
    "    hovertemplate = 'InTEM F Gases %{x|%Y}: %{y:.0f} Gt yr⁻¹<extra></extra>',\n",
    "    name=\"F Gases\",\n",
    "    ))\n",
    "\n",
    "\n",
    "fig2.add_trace(go.Scatter(\n",
    "    x=[pd.Timestamp(\"1900-01-01\"), pd.Timestamp(\"1900-01-02\")],\n",
    "    y=[0., 0.],\n",
    "    line=dict(color=\"black\", dash=\"dot\", width=4),\n",
    "    marker=dict(opacity=0., size=0),\n",
    "    showlegend=True,\n",
    "    name=\"InTEM\"\n",
    "    ))\n",
    "    \n",
    "fig2.update_layout(\n",
    "    yaxis_title=\"Annual Emissions (GtCO₂-equ)\",\n",
    "    template=\"simple_white\",\n",
    "    autosize=False,\n",
    "    width=550*2,\n",
    "    height=400*2,\n",
    "    legend=dict(\n",
    "        yanchor=\"top\",\n",
    "        y=0.99,\n",
    "        xanchor=\"right\",\n",
    "        x=0.99,\n",
    "        traceorder=\"normal\"),\n",
    "    margin=dict(l=55, r=10, t=10, b=40),\n",
    "    # paper_bgcolor='rgba(0,0,0,0)',\n",
    "    # plot_bgcolor='rgba(0,0,0,0)'\n",
    ")\n",
    "    \n",
    "\n",
    "\n",
    "fig2.update_yaxes(showgrid=True, gridwidth=1, gridcolor='Lightgrey')\n",
    "\n",
    "fig2.layout.font.size=20\n",
    "fig2.layout.font.family=\"Arial\"\n",
    "\n",
    "#fig2.write_image(\"Annual_Emissions_by_sector.png\")\n",
    "#fig2.write_image(\"Annual_Emissions_by_sector.pdf\")\n",
    "#fig2.write_html(\"Annual_Emissions_by_sector.html\")\n",
    "\n",
    "fig2.show()"
   ]
  }
 ],
 "metadata": {
  "kernelspec": {
   "display_name": "Python 3 (ipykernel)",
   "language": "python",
   "name": "python3"
  },
  "language_info": {
   "codemirror_mode": {
    "name": "ipython",
    "version": 3
   },
   "file_extension": ".py",
   "mimetype": "text/x-python",
   "name": "python",
   "nbconvert_exporter": "python",
   "pygments_lexer": "ipython3",
   "version": "3.9.7"
  },
  "vscode": {
   "interpreter": {
    "hash": "40d3a090f54c6569ab1632332b64b2c03c39dcf918b08424e98f38b5ae0af88f"
   }
  }
 },
 "nbformat": 4,
 "nbformat_minor": 4
}
