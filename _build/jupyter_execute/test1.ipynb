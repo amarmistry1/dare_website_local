{
 "cells": [
  {
   "cell_type": "markdown",
   "id": "dda5cbe4-d185-4551-9942-cc800b059407",
   "metadata": {},
   "source": [
    "# test1"
   ]
  },
  {
   "cell_type": "markdown",
   "id": "2b42107c-6d25-4e1f-8e9c-5d8ee0f83393",
   "metadata": {},
   "source": [
    "```{figure} Annual_Emissions_by_sector.html\n",
    "---\n",
    "height: 150px\n",
    "name: directive-fig\n",
    "---\n",
    "Here is my figure caption!\n",
    "```"
   ]
  }
 ],
 "metadata": {
  "kernelspec": {
   "display_name": "Python 3 (ipykernel)",
   "language": "python",
   "name": "python3"
  },
  "language_info": {
   "codemirror_mode": {
    "name": "ipython",
    "version": 3
   },
   "file_extension": ".py",
   "mimetype": "text/x-python",
   "name": "python",
   "nbconvert_exporter": "python",
   "pygments_lexer": "ipython3",
   "version": "3.9.7"
  }
 },
 "nbformat": 4,
 "nbformat_minor": 5
}